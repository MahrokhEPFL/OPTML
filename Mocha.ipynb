{
 "cells": [
  {
   "cell_type": "markdown",
   "metadata": {},
   "source": [
    "# Main notebook for testing Mocha\n",
    "\n",
    "## 0. Load packages\n",
    "\n"
   ]
  },
  {
   "cell_type": "code",
   "execution_count": 1,
   "metadata": {},
   "outputs": [],
   "source": [
    "import os\n",
    "import sys\n",
    "import scipy\n",
    "import numpy as np\n",
    "sys.path.append(os.getcwd()+'/assistive_functions')\n",
    "\n",
    "from household import Household\n",
    "from utils_households import get_lags, connect_to_households"
   ]
  },
  {
   "cell_type": "markdown",
   "metadata": {},
   "source": [
    "## 1. Mocha algorithm"
   ]
  },
  {
   "cell_type": "code",
   "execution_count": 2,
   "metadata": {},
   "outputs": [],
   "source": [
    "def run_mocha(Xtrain, Ytrain, Xtest, Ytest, lambda_, opts):\n",
    "    '''\n",
    "    Mocha Method\n",
    "    % Inputs\n",
    "    %   Xtrain: input training data\n",
    "    %   Ytrain: output training data\n",
    "    %   Xtest: input test data\n",
    "    %   Ytest: output test data\n",
    "    %   lambda: regularization parameter\n",
    "    %   opts: optional arguments\n",
    "    % Output\n",
    "    %   Average RMSE across tasks, primal and dual objectives\n",
    "    '''\n",
    "    # intialize variables\n",
    "    print('Running MOCHA\\n')\n",
    "    m = len(Xtrain)                     # num of tasks = num of households\n",
    "    d = Xtrain[0].shape[1]              # num of features\n",
    "    W = np.zeros((d, m)) \n",
    "    alpha = []\n",
    "    Sigma = np.eye(m)/m\n",
    "    Omega = np.linalg.inv(Sigma)\n",
    "    totaln = 0 \n",
    "    n = np.zeros(m, dtype=int)          # number of samples for each household\n",
    "    for t in np.arange(m):\n",
    "        n[t] = len(Ytrain[t])\n",
    "        totaln = totaln + n[t]\n",
    "        alpha.append(np.zeros(n[t]))\n",
    "    rho = 1                             # learning rate of SGD\n",
    "    # intialize counters\n",
    "    mocha_outer_iters = opts['mocha_outer_iters']\n",
    "    mocha_inner_iters = opts['mocha_inner_iters']\n",
    "    if opts['w_update']:\n",
    "        rmse        = np.zeros(mocha_inner_iters)\n",
    "        dual_objs   = np.zeros(mocha_inner_iters) \n",
    "        primal_objs = np.zeros(mocha_inner_iters)\n",
    "    else:\n",
    "        rmse        = np.zeros()\n",
    "        dual_objs   = np.zeros(mocha_outer_iters) \n",
    "        primal_objs = np.zeros(mocha_outer_iters)\n",
    "\n",
    "\n",
    "    for h in np.arange(mocha_outer_iters):\n",
    "        print('Outer itter: ', h)\n",
    "        \n",
    "        if not opts['w_update']:\n",
    "            curr_err = compute_rmse(Xtest, Ytest, W, opts)\n",
    "            rmse[h] = curr_err;\n",
    "            primal_objs[h] = compute_primal(Xtrain, Ytrain, W, Omega, lambda_)\n",
    "            dual_objs[h] = compute_dual(alpha, Ytrain, W, Omega, lambda_)\n",
    "        \n",
    "\n",
    "        # update W\n",
    "        for hh in np.arange(mocha_inner_iters):\n",
    "            #print('Inner itter: ', hh)\n",
    "            np.random.seed(hh*1000)\n",
    "            if opts['sys_het']: # change num of iterations\n",
    "                sys_iters = (opts['top'] - opts['bottom']) * np.random.rand(m,1) + opts['bottom']\n",
    "\n",
    "            if opts['w_update']:\n",
    "                # compute RMSE\n",
    "                rmse[hh] = compute_rmse(Xtest, Ytest, W, opts) \n",
    "                primal_objs[hh] = compute_primal(Xtrain, Ytrain, W, Omega, lambda_)\n",
    "                dual_objs[hh]   = compute_dual(alpha, Ytrain, W, Omega, lambda_)\n",
    "\n",
    "            # loop over tasks (in parallel)\n",
    "            deltaW = np.zeros((d, m))\n",
    "            deltaB = np.zeros((d, m))\n",
    "            for t in np.arange(m):\n",
    "                tperm = np.random.permutation(n[t]) # avoid updating 1 coordinate twice if there is an unchanged coor\n",
    "                alpha_t = alpha[t]                  # select the dual var for a random sample point\n",
    "                curr_sig = Sigma[t,t]\n",
    "                if opts['sys_het']:\n",
    "                    local_iters = n[t] * sys_iters[t]\n",
    "                else:\n",
    "                    local_iters = n[t] * opts['mocha_sdca_frac']    \n",
    "\n",
    "                # run Stochastic Dual Coordinate Ascent (SDCA) locally\n",
    "                for s in np.arange(local_iters):                    # each iter is 1 grad step in 1 coordinate\n",
    "                    # select random coordinate\n",
    "                    idx = tperm[int(s%n[t])]\n",
    "                    alpha_old = alpha_t[idx]                        # shape: (1, )\n",
    "                    curr_y = Ytrain[t][idx]                         # shape: (1, 1)\n",
    "                    curr_x = Xtrain[t][idx, :]                      # shape: (1, d)\n",
    "                    # compute update\n",
    "                    update = curr_y * np.matmul(curr_x, (W[:,t]+rho*deltaW[:,t]).reshape(-1, 1)) # shape: (1, 1)\n",
    "                    grad_num = lambda_ * n[t] * (1 - update)        # shape: (1, 1)\n",
    "                    grad_den = curr_sig * rho * np.matmul(curr_x, np.transpose(curr_x))\n",
    "                    grad = grad_num/grad_den + (alpha_old*curr_y)   # shape: (1, 1)\n",
    "                    alpha_t[idx] = (curr_y * max(0, min(1, grad)))  # shape: (1, 1) -> update to alpha[idx] by node t\n",
    "                    tmp = Sigma[t, t]*(alpha_t[idx] - alpha_old)/(lambda_*n[t]) * np.transpose(curr_x)\n",
    "                    deltaW[:, t] = deltaW[:, t] + (Sigma[t, t]*(alpha_t[idx] - alpha_old)/(lambda_*n[t]) * np.transpose(curr_x)).flatten() \n",
    "                    deltaB[:, t] = deltaB[:, t] + ((alpha_t[idx] - alpha_old) * np.transpose(curr_x) / n[t]).flatten()\n",
    "                    alpha[t] = alpha_t\n",
    "\n",
    "            # combine updates globally\n",
    "            for t in np.arange(m):\n",
    "                for tt in np.arange(m):\n",
    "                    W[:, t] = W[:, t] + deltaB[:, tt] * Sigma[t, tt]/ lambda_\n",
    "\n",
    "\n",
    "        # make sure eigenvalues are positive\n",
    "        A = np.matmul(np.transpose(W), W)\n",
    "        eig_val, eig_vec = np.linalg.eig(A)\n",
    "        if any(eig_val < 0):\n",
    "            V, Dmat = np.linalg.eig(A)\n",
    "            dm = np.diag(Dmat)\n",
    "            dm[dm <= 1e-7] = 1e-7\n",
    "            D_c = np.diag(dm)\n",
    "            A = V*D_c*np.transpose(V)\n",
    "        \n",
    "\n",
    "        # update Omega, Sigma\n",
    "        sqm = scipy.linalg.sqrtm(A)\n",
    "        Sigma = sqm / np.trace(sqm)\n",
    "        Omega = np.linalg.inv(Sigma)\n",
    "        rho = np.max(np.sum(np.abs(Sigma),1)/ np.diag(Sigma))\n",
    "\n",
    "\n",
    "    return rmse, primal_objs, dual_objs"
   ]
  },
  {
   "cell_type": "markdown",
   "metadata": {},
   "source": [
    "## 2. Load households data"
   ]
  },
  {
   "cell_type": "code",
   "execution_count": 3,
   "metadata": {},
   "outputs": [
    {
     "name": "stdout",
     "output_type": "stream",
     "text": [
      "\n",
      "[INFO] Connected to 2 households\n"
     ]
    }
   ],
   "source": [
    "# number of devices and their group\n",
    "num_households = 2\n",
    "group=\"ACORN-L\"\n",
    "stdorToU=\"ToU\"\n",
    "household_options = {\"num_households\":num_households,\n",
    "                    \"group\":group,\n",
    "                    \"stdorToU\":stdorToU}\n",
    "\n",
    "households = connect_to_households(household_options)\n",
    "\n",
    "\n",
    "\n",
    "# regression options\n",
    "options = {\"dayparts\":[],\n",
    "           \"resolution\":60,\n",
    "           \"remove_holiday\":True,\n",
    "           \"filt_days\":['Tuesday'], \n",
    "           \"replacement_method\":'week_before',\n",
    "           \"feat_cols\":['hourofd_x', 'hourofd_y', 'dayofy_x', 'dayofy_y', 'temperature_hourly']}\n",
    "step_ahead=1\n",
    "\n",
    "# find dates when all households had data\n",
    "date_st = []\n",
    "date_en = []\n",
    "for household in households:\n",
    "    household.construct_dataset(lags=get_lags(step_ahead), step_ahead=step_ahead, options=options)\n",
    "    date_st.append(household.cons_data.date.iloc[0])\n",
    "    date_en.append(household.cons_data.date.iloc[-1])\n",
    "date_st_com = max(date_st)\n",
    "date_en_com = min(date_en)\n",
    "\n",
    "# construct dataset\n",
    "for household in households:\n",
    "    household.construct_dataset(lags=get_lags(step_ahead), step_ahead=step_ahead, options=options, \n",
    "                                date_st=date_st_com, date_en=date_en_com)\n",
    "    household.train_test_split(test_frac=0.25)"
   ]
  },
  {
   "cell_type": "markdown",
   "metadata": {},
   "source": [
    "## 3. Form train and test matrices"
   ]
  },
  {
   "cell_type": "code",
   "execution_count": 4,
   "metadata": {},
   "outputs": [],
   "source": [
    "# form train and test lists\n",
    "Xtrain = []\n",
    "Ytrain = []\n",
    "Xtest  = []\n",
    "Ytest  = []\n",
    "for household in households:\n",
    "    Xtrain.append(np.hstack((np.ones((household.X_train.shape[0],1)),household.X_train)))\n",
    "    Ytrain.append(household.y_train)\n",
    "    Xtest.append(np.hstack((np.ones((household.X_test.shape[0],1)),household.X_test)))\n",
    "    Ytest.append(household.y_test)\n",
    "\n",
    "lambda_ = 0.1\n",
    "# not sure what the options are, setting arbitrary values to check\n",
    "opts = {'mocha_outer_iters': 10,\n",
    "        'mocha_inner_iters': 10,\n",
    "        'w_update': True,\n",
    "        'sys_het': False,\n",
    "        'top': 2,\n",
    "        'buttom': 1,\n",
    "        'mocha_sdca_frac':0.1}"
   ]
  },
  {
   "cell_type": "markdown",
   "metadata": {},
   "source": [
    "# 4. Run"
   ]
  },
  {
   "cell_type": "code",
   "execution_count": 5,
   "metadata": {},
   "outputs": [
    {
     "name": "stdout",
     "output_type": "stream",
     "text": [
      "Running MOCHA\n",
      "\n",
      "Outer itter:  0\n"
     ]
    },
    {
     "ename": "AttributeError",
     "evalue": "'list' object has no attribute 'shape'",
     "output_type": "error",
     "traceback": [
      "\u001b[0;31m---------------------------------------------------------------------------\u001b[0m",
      "\u001b[0;31mAttributeError\u001b[0m                            Traceback (most recent call last)",
      "\u001b[0;32m<ipython-input-5-d7f2153dad13>\u001b[0m in \u001b[0;36m<module>\u001b[0;34m\u001b[0m\n\u001b[1;32m      3\u001b[0m \u001b[0;31m# run code with real 'compute_...' functions\\\u001b[0m\u001b[0;34m\u001b[0m\u001b[0;34m\u001b[0m\u001b[0;34m\u001b[0m\u001b[0m\n\u001b[1;32m      4\u001b[0m \u001b[0mopts\u001b[0m\u001b[0;34m[\u001b[0m\u001b[0;34m'avg'\u001b[0m\u001b[0;34m]\u001b[0m\u001b[0;34m=\u001b[0m\u001b[0;32mFalse\u001b[0m\u001b[0;34m\u001b[0m\u001b[0;34m\u001b[0m\u001b[0m\n\u001b[0;32m----> 5\u001b[0;31m \u001b[0mrmse\u001b[0m\u001b[0;34m,\u001b[0m \u001b[0mprimal_objs\u001b[0m\u001b[0;34m,\u001b[0m \u001b[0mdual_objs\u001b[0m \u001b[0;34m=\u001b[0m \u001b[0mrun_mocha\u001b[0m\u001b[0;34m(\u001b[0m\u001b[0mXtrain\u001b[0m\u001b[0;34m,\u001b[0m \u001b[0mYtrain\u001b[0m\u001b[0;34m,\u001b[0m \u001b[0mXtest\u001b[0m\u001b[0;34m,\u001b[0m \u001b[0mYtest\u001b[0m\u001b[0;34m,\u001b[0m \u001b[0mlambda_\u001b[0m\u001b[0;34m,\u001b[0m \u001b[0mopts\u001b[0m\u001b[0;34m)\u001b[0m\u001b[0;34m\u001b[0m\u001b[0;34m\u001b[0m\u001b[0m\n\u001b[0m",
      "\u001b[0;32m<ipython-input-2-9fc1f1af2e36>\u001b[0m in \u001b[0;36mrun_mocha\u001b[0;34m(Xtrain, Ytrain, Xtest, Ytest, lambda_, opts)\u001b[0m\n\u001b[1;32m     61\u001b[0m                 \u001b[0mrmse\u001b[0m\u001b[0;34m[\u001b[0m\u001b[0mhh\u001b[0m\u001b[0;34m]\u001b[0m \u001b[0;34m=\u001b[0m \u001b[0mcompute_rmse\u001b[0m\u001b[0;34m(\u001b[0m\u001b[0mXtest\u001b[0m\u001b[0;34m,\u001b[0m \u001b[0mYtest\u001b[0m\u001b[0;34m,\u001b[0m \u001b[0mW\u001b[0m\u001b[0;34m,\u001b[0m \u001b[0mopts\u001b[0m\u001b[0;34m)\u001b[0m\u001b[0;34m;\u001b[0m \u001b[0;31m#TODO\u001b[0m\u001b[0;34m\u001b[0m\u001b[0;34m\u001b[0m\u001b[0m\n\u001b[1;32m     62\u001b[0m                 \u001b[0mprimal_objs\u001b[0m\u001b[0;34m[\u001b[0m\u001b[0mhh\u001b[0m\u001b[0;34m]\u001b[0m \u001b[0;34m=\u001b[0m \u001b[0mcompute_primal\u001b[0m\u001b[0;34m(\u001b[0m\u001b[0mXtrain\u001b[0m\u001b[0;34m,\u001b[0m \u001b[0mYtrain\u001b[0m\u001b[0;34m,\u001b[0m \u001b[0mW\u001b[0m\u001b[0;34m,\u001b[0m \u001b[0mOmega\u001b[0m\u001b[0;34m,\u001b[0m \u001b[0mlambda_\u001b[0m\u001b[0;34m)\u001b[0m\u001b[0;34m;\u001b[0m \u001b[0;31m#TODO\u001b[0m\u001b[0;34m\u001b[0m\u001b[0;34m\u001b[0m\u001b[0m\n\u001b[0;32m---> 63\u001b[0;31m                 \u001b[0mdual_objs\u001b[0m\u001b[0;34m[\u001b[0m\u001b[0mhh\u001b[0m\u001b[0;34m]\u001b[0m   \u001b[0;34m=\u001b[0m \u001b[0mcompute_dual\u001b[0m\u001b[0;34m(\u001b[0m\u001b[0malpha\u001b[0m\u001b[0;34m,\u001b[0m \u001b[0mYtrain\u001b[0m\u001b[0;34m,\u001b[0m \u001b[0mW\u001b[0m\u001b[0;34m,\u001b[0m \u001b[0mOmega\u001b[0m\u001b[0;34m,\u001b[0m \u001b[0mlambda_\u001b[0m\u001b[0;34m)\u001b[0m\u001b[0;34m;\u001b[0m \u001b[0;31m#TODO\u001b[0m\u001b[0;34m\u001b[0m\u001b[0;34m\u001b[0m\u001b[0m\n\u001b[0m\u001b[1;32m     64\u001b[0m \u001b[0;34m\u001b[0m\u001b[0m\n\u001b[1;32m     65\u001b[0m             \u001b[0;31m# loop over tasks (in parallel)\u001b[0m\u001b[0;34m\u001b[0m\u001b[0;34m\u001b[0m\u001b[0;34m\u001b[0m\u001b[0m\n",
      "\u001b[0;32m~/EPFL/Courses/Optimization for ML/OPTML/util.py\u001b[0m in \u001b[0;36mcompute_dual\u001b[0;34m(alpha, Y, W, Omega, lambda_)\u001b[0m\n\u001b[1;32m      7\u001b[0m     '''\n\u001b[1;32m      8\u001b[0m     \u001b[0mtotal_alpha\u001b[0m \u001b[0;34m=\u001b[0m \u001b[0;36m0\u001b[0m\u001b[0;34m\u001b[0m\u001b[0;34m\u001b[0m\u001b[0m\n\u001b[0;32m----> 9\u001b[0;31m     \u001b[0;32mfor\u001b[0m \u001b[0mtt\u001b[0m \u001b[0;32min\u001b[0m \u001b[0mrange\u001b[0m\u001b[0;34m(\u001b[0m\u001b[0mY\u001b[0m\u001b[0;34m.\u001b[0m\u001b[0mshape\u001b[0m\u001b[0;34m[\u001b[0m\u001b[0;36m0\u001b[0m\u001b[0;34m]\u001b[0m\u001b[0;34m)\u001b[0m\u001b[0;34m:\u001b[0m\u001b[0;34m\u001b[0m\u001b[0;34m\u001b[0m\u001b[0m\n\u001b[0m\u001b[1;32m     10\u001b[0m         \u001b[0mtotal_alpha\u001b[0m \u001b[0;34m+=\u001b[0m \u001b[0mtorch\u001b[0m\u001b[0;34m.\u001b[0m\u001b[0mmean\u001b[0m\u001b[0;34m(\u001b[0m\u001b[0;34m-\u001b[0m\u001b[0;36m1.0\u001b[0m \u001b[0;34m*\u001b[0m \u001b[0malpha\u001b[0m\u001b[0;34m[\u001b[0m\u001b[0mtt\u001b[0m\u001b[0;34m]\u001b[0m \u001b[0;34m*\u001b[0m \u001b[0mY\u001b[0m\u001b[0;34m[\u001b[0m\u001b[0mtt\u001b[0m\u001b[0;34m]\u001b[0m\u001b[0;34m)\u001b[0m\u001b[0;34m\u001b[0m\u001b[0;34m\u001b[0m\u001b[0m\n\u001b[1;32m     11\u001b[0m     \u001b[0mdual_obj\u001b[0m \u001b[0;34m=\u001b[0m \u001b[0;34m-\u001b[0m\u001b[0;36m0.5\u001b[0m \u001b[0;34m*\u001b[0m \u001b[0mlambda_\u001b[0m \u001b[0;34m*\u001b[0m \u001b[0mtorch\u001b[0m\u001b[0;34m.\u001b[0m\u001b[0mtrace\u001b[0m\u001b[0;34m(\u001b[0m\u001b[0mtorch\u001b[0m\u001b[0;34m.\u001b[0m\u001b[0mmm\u001b[0m\u001b[0;34m(\u001b[0m\u001b[0mtorch\u001b[0m\u001b[0;34m.\u001b[0m\u001b[0mmm\u001b[0m\u001b[0;34m(\u001b[0m\u001b[0mW\u001b[0m\u001b[0;34m,\u001b[0m \u001b[0mOmega\u001b[0m\u001b[0;34m)\u001b[0m\u001b[0;34m,\u001b[0m \u001b[0mtorch\u001b[0m\u001b[0;34m.\u001b[0m\u001b[0minverse\u001b[0m\u001b[0;34m(\u001b[0m\u001b[0mW\u001b[0m\u001b[0;34m)\u001b[0m\u001b[0;34m)\u001b[0m\u001b[0;34m)\u001b[0m\u001b[0;34m\u001b[0m\u001b[0;34m\u001b[0m\u001b[0m\n",
      "\u001b[0;31mAttributeError\u001b[0m: 'list' object has no attribute 'shape'"
     ]
    }
   ],
   "source": [
    "from util import compute_rmse, compute_dual, compute_primal\n",
    "\n",
    "# run code with real 'compute_...' functions\\\n",
    "opts['avg']=False\n",
    "rmse, primal_objs, dual_objs = run_mocha(Xtrain, Ytrain, Xtest, Ytest, lambda_, opts)"
   ]
  },
  {
   "cell_type": "code",
   "execution_count": 6,
   "metadata": {},
   "outputs": [
    {
     "name": "stdout",
     "output_type": "stream",
     "text": [
      "Running MOCHA\n",
      "\n",
      "Outer itter:  0\n",
      "Outer itter:  1\n",
      "Outer itter:  2\n",
      "Outer itter:  3\n",
      "Outer itter:  4\n",
      "Outer itter:  5\n",
      "Outer itter:  6\n",
      "Outer itter:  7\n",
      "Outer itter:  8\n",
      "Outer itter:  9\n"
     ]
    }
   ],
   "source": [
    "from util import compute_rmse, compute_primal\n",
    "def compute_dual(alpha, Ytrain, W, Omega, lambda_):\n",
    "    return 0\n",
    "\n",
    "# run code with empty 'compute_...' functions\n",
    "opts['avg']=False\n",
    "rmse, primal_objs, dual_objs = run_mocha(Xtrain, Ytrain, Xtest, Ytest, lambda_, opts)"
   ]
  },
  {
   "cell_type": "code",
   "execution_count": null,
   "metadata": {},
   "outputs": [],
   "source": []
  },
  {
   "cell_type": "code",
   "execution_count": null,
   "metadata": {},
   "outputs": [],
   "source": []
  }
 ],
 "metadata": {
  "kernelspec": {
   "display_name": "Python 3",
   "language": "python",
   "name": "python3"
  },
  "language_info": {
   "codemirror_mode": {
    "name": "ipython",
    "version": 3
   },
   "file_extension": ".py",
   "mimetype": "text/x-python",
   "name": "python",
   "nbconvert_exporter": "python",
   "pygments_lexer": "ipython3",
   "version": "3.8.3"
  }
 },
 "nbformat": 4,
 "nbformat_minor": 4
}
