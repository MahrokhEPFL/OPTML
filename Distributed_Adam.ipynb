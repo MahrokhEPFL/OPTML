{
 "cells": [
  {
   "cell_type": "code",
   "execution_count": 1,
   "metadata": {},
   "outputs": [],
   "source": [
    "import os\n",
    "import sys\n",
    "import copy\n",
    "import math\n",
    "import torch\n",
    "import random\n",
    "import syft as sy\n",
    "import numpy as np\n",
    "import pandas as pd\n",
    "import tensorflow as tf\n",
    "import statsmodels.api as sm\n",
    "import matplotlib.pyplot as plt\n",
    "from collections import OrderedDict\n",
    "sys.path.append(os.getcwd()+'/assistive_functions')\n",
    "\n",
    "from SMWrapper import SMWrapper\n",
    "from household import Household, SyNet\n",
    "from load_data import get_data_of_a_person\n",
    "from construct_dataset import construct_dataset\n",
    "from sklearn.model_selection import train_test_split\n",
    "\n",
    "random.seed(30)\n",
    "np.random.seed(30)"
   ]
  },
  {
   "cell_type": "code",
   "execution_count": 2,
   "metadata": {},
   "outputs": [],
   "source": [
    "# candidate lags\n",
    "def get_lags(step_ahead, num_days=np.array([0,1,7])):\n",
    "    lags = []\n",
    "    for i in num_days:\n",
    "        lags = lags + [48*i, 48*i+1, 48*i+2]\n",
    "    lags = [x-step_ahead+1 for x in lags if x>=step_ahead]\n",
    "    return lags\n",
    "\n",
    "def connect_to_households(household_options):\n",
    "    # get candidate houses from the selected group\n",
    "    path = os.getcwd()+\"/input/informations_households.csv.xls\"\n",
    "    data = pd.read_csv(path)\n",
    "    # filter by group\n",
    "    candidates = data.loc[data.Acorn==household_options['group']]\n",
    "    # filter by tariff \n",
    "    candidates = candidates.loc[candidates.stdorToU==household_options['stdorToU']]\n",
    "    # print(candidates)    \n",
    "    # TODO: shuffle\n",
    "    households=[]\n",
    "    step_ahead=1\n",
    "\n",
    "    # create households\n",
    "    needed = household_options['num_households']\n",
    "    num = 0\n",
    "    while needed>0:\n",
    "        # check if there are enough households\n",
    "        if num>=len(candidates):\n",
    "            num_households = len(households)\n",
    "            print('[Warning] could not find enough households')\n",
    "            print('[Warning] changed number of households to ' + str(num_households))\n",
    "        # get household\n",
    "        household = Household(house_id=candidates.LCLid.iloc[num],\n",
    "                               block_num=candidates.file.iloc[num])\n",
    "        # load data with regression options\n",
    "        household.construct_dataset(lags=get_lags(step_ahead), step_ahead=step_ahead, options=options)\n",
    "        if len(household.y) > 0:\n",
    "            households.append(household)\n",
    "            needed = needed-1\n",
    "        # search next\n",
    "        num = num+1\n",
    "\n",
    "    print('\\n[INFO] Connected to ' + str(len(households)) + ' households')\n",
    "    return households"
   ]
  },
  {
   "cell_type": "markdown",
   "metadata": {},
   "source": [
    "### Connect to households"
   ]
  },
  {
   "cell_type": "code",
   "execution_count": 3,
   "metadata": {},
   "outputs": [
    {
     "name": "stdout",
     "output_type": "stream",
     "text": [
      "\n",
      "[INFO] Connected to 10 households\n"
     ]
    }
   ],
   "source": [
    "# number of devices and their group\n",
    "num_households = 10\n",
    "group=\"ACORN-L\"\n",
    "stdorToU=\"ToU\"\n",
    "household_options = {\"num_households\":num_households,\n",
    "                    \"group\":group,\n",
    "                    \"stdorToU\":stdorToU}\n",
    "\n",
    "# regression options\n",
    "options = {\"dayparts\":[],\n",
    "           \"resolution\":60,\n",
    "           \"remove_holiday\":True,\n",
    "           \"filt_days\":['Tuesday'], \n",
    "           \"replacement_method\":'week_before',\n",
    "           \"feat_cols\":['hourofd_x', 'hourofd_y', 'dayofy_x', 'dayofy_y', 'temperature_hourly']}\n",
    "step_ahead=1\n",
    "\n",
    "households = connect_to_households(household_options)"
   ]
  },
  {
   "cell_type": "markdown",
   "metadata": {},
   "source": [
    "# Distributed Adam"
   ]
  },
  {
   "cell_type": "code",
   "execution_count": 4,
   "metadata": {},
   "outputs": [],
   "source": [
    "def print_param(model, message=''):\n",
    "    with np.printoptions(precision=3, suppress=True):\n",
    "        print(message+' model: \\nbias = ' + \n",
    "              str(model.state_dict()['linear.bias'].numpy()[0]) +\n",
    "              ', \\nweights = ' + \n",
    "              str(model.state_dict()['linear.weight'].numpy().flatten()))\n",
    "    return\n",
    "        \n",
    "        \n",
    "def distributed_adam(households, lr, mbsize, total_it, **kwargs):\n",
    "    if 'init_state_dict' in kwargs:\n",
    "        set_init = True\n",
    "        init_state_dict = kwargs.get('init_state_dict')\n",
    "    else:\n",
    "        set_init = False\n",
    "    # create an initial model with random parameters\n",
    "    in_dim=households[0].info['num_features']\n",
    "    model = SyNet(torch, in_dim=in_dim, out_dim=1)\n",
    "    if set_init:\n",
    "        for key, value in init_state_dict.items():\n",
    "            model.state_dict()[key].copy_(value)\n",
    "        print_param(model, 'Initial DA ')\n",
    "    # create optimizer\n",
    "    optim = torch.optim.Adam(params=model.parameters(), lr=lr)\n",
    "    # iterate\n",
    "    for i in np.arange(math.floor(total_it/mbsize)):\n",
    "        # initialize param update\n",
    "        cur_state_dict=copy.deepcopy(model.state_dict())\n",
    "        new_weights = model.state_dict()['linear.weight'].numpy().flatten()\n",
    "        new_bias = model.state_dict()['linear.bias'].numpy()\n",
    "        # run minibatch SGD for each household\n",
    "        for household in households:\n",
    "            # run minibatch SGD and get update in parameters\n",
    "            delta_bias, delta_weight = household.minibatch_SGD(model=model,optim=optim, mbsize=mbsize)\n",
    "            # aggregate updates\n",
    "            new_bias = new_bias + delta_bias\n",
    "            new_weights = new_weights + delta_weight\n",
    "        # update model\n",
    "        new_bias = torch.tensor(new_bias)\n",
    "        new_weights = torch.tensor(new_weights.reshape((1,len(new_weights))))\n",
    "        model.state_dict()['linear.weight'].copy_(new_weights)\n",
    "        model.state_dict()['linear.bias'].copy_(new_bias)\n",
    "        #print_param(model, 'Iteration ' + str(i) + ' ')\n",
    "\n",
    "        #print(' ')\n",
    "    # print trained parameters\n",
    "    print_param(model, 'Trained DA ')\n",
    "    return model"
   ]
  },
  {
   "cell_type": "code",
   "execution_count": 5,
   "metadata": {},
   "outputs": [
    {
     "name": "stdout",
     "output_type": "stream",
     "text": [
      "Trained DA  model: \n",
      "bias = 0.19394255, \n",
      "weights = [-0.067 -0.176 -0.109  0.175 -0.323  1.453  0.527  0.484  0.14   0.052\n",
      "  1.133 -0.265 -0.425]\n"
     ]
    }
   ],
   "source": [
    "lr = 0.1\n",
    "mbsize = 10\n",
    "total_it = 100\n",
    "\n",
    "# construct dataset\n",
    "for household in households:\n",
    "    household.construct_dataset(lags=get_lags(step_ahead), step_ahead=step_ahead, options=options)\n",
    "    household.train_test_split(test_frac=0.25)\n",
    "\n",
    "# train distributed adam\n",
    "model_s = distributed_adam(households, lr=lr, mbsize=mbsize, total_it=total_it)"
   ]
  },
  {
   "cell_type": "markdown",
   "metadata": {},
   "source": [
    "# Test"
   ]
  },
  {
   "cell_type": "code",
   "execution_count": 6,
   "metadata": {},
   "outputs": [
    {
     "data": {
      "image/png": "[encoded data removed]",
      "text/plain": [
       "<Figure size 864x432 with 2 Axes>"
      ]
     },
     "metadata": {
      "needs_background": "light"
     },
     "output_type": "display_data"
    }
   ],
   "source": [
    "mse_train_p = np.zeros(num_households)\n",
    "mse_train_s = np.zeros(num_households)\n",
    "mse_test_p = np.zeros(num_households)\n",
    "mse_test_s = np.zeros(num_households)\n",
    "\n",
    "for h_ind, household in enumerate(households):\n",
    "    # train personal model \n",
    "    household.fit_personal_model(method='Adam', lr=lr, iterations=total_it)\n",
    "    res = household.evaluate_model(method='Adam')\n",
    "    mse_train_p[h_ind] = res['MSE_train']\n",
    "    mse_test_p[h_ind] = res['MSE_test']\n",
    "    # test adam\n",
    "    res = household.evaluate_model(method='Adam', model=model_s)\n",
    "    mse_train_s[h_ind] = res['MSE_train']\n",
    "    mse_test_s[h_ind] = res['MSE_test']\n",
    "    \n",
    "fig,axs = plt.subplots(2,1,figsize=(12,6))\n",
    "axs[0].scatter(np.arange(num_households), mse_train_p, color='blue', label='personal')\n",
    "axs[0].scatter(np.arange(num_households), mse_train_s, color='orange', label='shared')\n",
    "axs[0].set_title('Train')\n",
    "axs[1].scatter(np.arange(num_households), mse_test_p, color='blue', label='personal')\n",
    "axs[1].scatter(np.arange(num_households), mse_test_s, color='orange', label='shared')\n",
    "axs[1].set_title('Test')\n",
    "for ax in axs:\n",
    "    ax.legend()\n",
    "    ax.set_xlabel('household number')\n",
    "    ax.set_ylabel('MSE')\n",
    "    "
   ]
  },
  {
   "cell_type": "markdown",
   "metadata": {},
   "source": [
    "# Check\n",
    "This section is for checking if the distributed Adam algorithm works correctly. To do so, we use only one household and fit a linear regression model with two methods: 1) directly using Adam on the local data of this household, 2) using the distributed Adam by only one household. If initiated at the same parameters, both methods return the same weights and bias. "
   ]
  },
  {
   "cell_type": "code",
   "execution_count": 7,
   "metadata": {},
   "outputs": [
    {
     "name": "stdout",
     "output_type": "stream",
     "text": [
      "\n",
      "Method 1\n",
      " model: \n",
      "bias = 0.1544352, \n",
      "weights = [-0.039 -0.01  -0.017 -0.002 -0.063  1.937  0.176  0.532 -0.043 -0.134\n",
      "  0.057  0.042 -0.042]\n",
      "\n",
      "Method 2\n",
      "Initial DA  model: \n",
      "bias = -0.116587475, \n",
      "weights = [ 0.028  0.173 -0.073  0.094  0.04   0.273 -0.244 -0.137 -0.246 -0.093\n",
      " -0.195 -0.149  0.067]\n",
      "Trained DA  model: \n",
      "bias = 0.34830564, \n",
      "weights = [ 0.033 -0.017 -0.13  -0.16  -0.664  1.078  0.197  0.34  -0.017  0.007\n",
      "  0.899 -0.221 -0.229]\n"
     ]
    }
   ],
   "source": [
    "lr = 0.1\n",
    "mbsize = 2\n",
    "total_it = 400\n",
    "\n",
    "# create an initial model with random parameters\n",
    "model = SyNet(torch, in_dim=household.info['num_features'], out_dim=1)\n",
    "init_state_dict = copy.deepcopy(model.state_dict())\n",
    "  \n",
    "# set training data\n",
    "households[0].train_test_split(test_frac=0.25)    \n",
    "\n",
    "# METHOD 1\n",
    "household = households[0]\n",
    "print('\\nMethod 1')\n",
    "household.fit_personal_model(method='Adam', lr=lr, iterations=total_it, init_state_dict=init_state_dict)\n",
    "model_lr = household.personal_lr\n",
    "print_param(model_lr)\n",
    "\n",
    "# METHOD 2\n",
    "print('\\nMethod 2')\n",
    "model_da = distributed_adam([household], lr, mbsize, total_it, init_state_dict=init_state_dict)"
   ]
  },
  {
   "cell_type": "code",
   "execution_count": null,
   "metadata": {},
   "outputs": [],
   "source": []
  },
  {
   "cell_type": "code",
   "execution_count": null,
   "metadata": {},
   "outputs": [],
   "source": []
  },
  {
   "cell_type": "code",
   "execution_count": null,
   "metadata": {},
   "outputs": [],
   "source": []
  },
  {
   "cell_type": "code",
   "execution_count": null,
   "metadata": {},
   "outputs": [],
   "source": []
  },
  {
   "cell_type": "code",
   "execution_count": null,
   "metadata": {},
   "outputs": [],
   "source": []
  },
  {
   "cell_type": "code",
   "execution_count": null,
   "metadata": {},
   "outputs": [],
   "source": []
  },
  {
   "cell_type": "code",
   "execution_count": null,
   "metadata": {},
   "outputs": [],
   "source": []
  }
 ],
 "metadata": {
  "kernelspec": {
   "display_name": "Python 3",
   "language": "python",
   "name": "python3"
  },
  "language_info": {
   "codemirror_mode": {
    "name": "ipython",
    "version": 3
   },
   "file_extension": ".py",
   "mimetype": "text/x-python",
   "name": "python",
   "nbconvert_exporter": "python",
   "pygments_lexer": "ipython3",
   "version": "3.8.3"
  }
 },
 "nbformat": 4,
 "nbformat_minor": 4
}
