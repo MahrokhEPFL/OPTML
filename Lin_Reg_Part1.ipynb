{
 "cells": [
  {
   "cell_type": "code",
   "execution_count": 1,
   "metadata": {},
   "outputs": [],
   "source": [
    "import os\n",
    "import math\n",
    "import random\n",
    "import numpy as np\n",
    "import pandas as pd\n",
    "\n",
    "from household import Household\n",
    "\n",
    "\n",
    "random.seed(30)\n",
    "np.random.seed(30)"
   ]
  },
  {
   "cell_type": "markdown",
   "metadata": {},
   "source": [
    "# 0 Introduction\n",
    "**0.1 Goal**\n",
    "* 1 step-ahead electricity consumption prediction\n",
    "* single house\n",
    "* consider weahter and calendar effects\n",
    "\n",
    "**0.2 Data**\n",
    "* random household in London\n",
    "* January 2012 to December 2013\n",
    "* 30 min resolution\n",
    "* hourly temperature records\n",
    "* date and time information\n",
    "\n",
    "**0.3 Recap of Visualization and Data Analya**\n",
    "* Plots of Holiday vs. weekday vs. weekend: widely varrying patterns\n",
    "* Time-series plots: data has sharp peaks\n",
    "* Box plots vs. time and temperature: the occurance of these peaks has no visible pattern, and are diagnosed as outliers \n",
    "* Auto-correlation and partial auto-correlation: auto-regressors with lags in 48k+/-3, k between 0 to 7 are informative\n",
    "* seasonal differences cannot be easily detected\n",
    "\n",
    "\n",
    "**0.4 Summary**\n",
    "* Need different models for weekday/weekend/holiday\n",
    "* Predicting the peaks can be challenging or impossible\n",
    "* AR models with lagged versions of the time-series as features are suitable for the task\n",
    "\n",
    "**0.5 In This Notebook**\n",
    "* One-step-ahead consumption prediction of a fixed household\n",
    "* Feature selection problem: determining suitable auto-regressors \n",
    "* Evaluating fit results\n",
    "* Studying the effect of day part (morning/noon/...) on prediction error\n",
    "\n",
    "**0.6 General Setup**\n",
    "* Single fixed household\n",
    "* Only Thursdays that were not a holiday (see section 1)\n",
    "* Dependent variable (target): one-step-ahead consumption\n",
    "* Regressors (features): constant / hour of day (x,y) / day of year (x,y) / temperature / auto-regressors(delayed versions)\n",
    "* The same model is used for all parts of Tuesdays (morning/noon/...) and all seasons\n",
    "\n",
    "**Setup is the same in all sections unless specified**\n",
    "**  **"
   ]
  },
  {
   "cell_type": "markdown",
   "metadata": {},
   "source": [
    "# 1 Preparing The Data for Regression\n",
    "\n",
    "**1.1 Cleaning**\n",
    "* interpolate missing values\n",
    "* merge consumption, weather, and calendar data to a single dataframe\n",
    "* no outlier removal method \n",
    "* convert time of day and day of year to x,y\n",
    "* min-max scaling to [-1, 1]\n",
    "\n",
    "**1.2 Filtering the data**\n",
    "* fix one day, e.g. Thursday\n",
    "* remove all holidays\n",
    "\n",
    "**1.2 Constructing regression dataframe**\n",
    "* dependent variable: consumption at time interval t\n",
    "* regressors: temperature, time of day (x,y), day of year (x,y), auto-regressors(delayed versions of the signal)\n",
    "* dealing with holidays: if holidays appear among auto-regressors, replace them with the previous day. If the previous day is weekend, holiday, or already in the features, keep going 1 day back.\n",
    "\n",
    "**1.3 Describing the options**\n",
    "* filt_days: the day of week for which we are training a model\n",
    "* remove_holiday, replacement_method: if public holidays should be removed, b.c. they are different from normal days, and how to replace them (default: True, week_before)\n",
    "* feat_cols: which temporal features are used in the regression dataframe\n",
    "* dayparts: can select different parts of day to fit a specific model for them, e.g. only for nights (default is [] for selecting the whole day)\n",
    "* lags: autoregressive features to be used\n",
    "* step_ahead: prediction horizon, e.g. if step_ahead=1 predicts the next time step (30 min) using data up to now, if step_ahead=2 predicts 2 steps into future (1 hour) using data up to now, ..."
   ]
  },
  {
   "cell_type": "code",
   "execution_count": 2,
   "metadata": {},
   "outputs": [],
   "source": [
    "# set options\n",
    "step_ahead=1\n",
    "\n",
    "# candidate lags\n",
    "lags = []\n",
    "for i in np.arange(8):\n",
    "    lags = lags + [48*i+1,48*i+2,48*i+3,48*i+48]\n",
    "lags = [x-step_ahead+1 for x in lags if x>=step_ahead]\n",
    "\n",
    "# regression options\n",
    "options = {\"filt_days\":['Tuesday'], \n",
    "           \"remove_holiday\":True,\n",
    "           \"feat_cols\":['hourofd_x', 'hourofd_y', 'dayofy_x', 'dayofy_y', 'temperature_hourly'],\n",
    "           \"replacement_method\":'week_before',\n",
    "           \"dayparts\":[]}"
   ]
  },
  {
   "cell_type": "code",
   "execution_count": 3,
   "metadata": {},
   "outputs": [
    {
     "name": "stdout",
     "output_type": "stream",
     "text": [
      "number of holidays\n",
      "25.0\n",
      "\n",
      "   ***   DATA IS READY FOR USE   ***\n",
      "\n"
     ]
    }
   ],
   "source": [
    "# construct household obj\n",
    "block=77\n",
    "house_id = \"MAC000068\"\n",
    "household = Household(house_id=house_id, block_num=block)\n",
    "# load data with regression options\n",
    "household.construct_dataset(lags=lags, step_ahead=step_ahead, options=options)"
   ]
  },
  {
   "cell_type": "code",
   "execution_count": 4,
   "metadata": {},
   "outputs": [
    {
     "name": "stdout",
     "output_type": "stream",
     "text": [
      "          LCLid stdorToU    Acorn Acorn_grouped      file\n",
      "3871  MAC000068      Std  ACORN-L     Adversity  block_77\n"
     ]
    }
   ],
   "source": [
    "# print information about this household\n",
    "path = os.getcwd()+\"/input/informations_households.csv.xls\"\n",
    "data = pd.read_csv(path)\n",
    "info = data.loc[data.LCLid==household.house_id]\n",
    "print(info)"
   ]
  },
  {
   "cell_type": "markdown",
   "metadata": {},
   "source": [
    "# 2 Fit Linear Regression Model"
   ]
  },
  {
   "cell_type": "code",
   "execution_count": 5,
   "metadata": {},
   "outputs": [
    {
     "name": "stdout",
     "output_type": "stream",
     "text": [
      "Mean squared error:  train 0.20, test 0.20\n",
      "Mean absolute error: train 0.30, test 0.31\n",
      "Coefficient of determination (R2): train 0.46, test 0.42\n",
      "Adjusted coeff. of determination:  train 0.46, test 0.42\n",
      "AIC: train 60.65, test 62.76\n"
     ]
    }
   ],
   "source": [
    "# set training data\n",
    "household.train_test_split(test_size=0.25)\n",
    "# LR\n",
    "method='Adam'\n",
    "household.fit_personal_model(method=method)\n",
    "res = household.evaluate_model(method=method, \n",
    "                               measures=['MSE', 'MAE', 'R2', 'Adjr2', 'AIC'], \n",
    "                               verbose=True)"
   ]
  },
  {
   "cell_type": "markdown",
   "metadata": {},
   "source": [
    "# 3 Comparing Prediction Accuracy for Different Horizons"
   ]
  },
  {
   "cell_type": "code",
   "execution_count": null,
   "metadata": {},
   "outputs": [],
   "source": []
  },
  {
   "cell_type": "code",
   "execution_count": null,
   "metadata": {},
   "outputs": [],
   "source": []
  },
  {
   "cell_type": "code",
   "execution_count": null,
   "metadata": {},
   "outputs": [],
   "source": []
  },
  {
   "cell_type": "code",
   "execution_count": null,
   "metadata": {},
   "outputs": [],
   "source": []
  },
  {
   "cell_type": "code",
   "execution_count": null,
   "metadata": {},
   "outputs": [],
   "source": [
    "\n",
    "     "
   ]
  },
  {
   "cell_type": "code",
   "execution_count": null,
   "metadata": {},
   "outputs": [],
   "source": []
  }
 ],
 "metadata": {
  "kernelspec": {
   "display_name": "Python 3",
   "language": "python",
   "name": "python3"
  },
  "language_info": {
   "codemirror_mode": {
    "name": "ipython",
    "version": 3
   },
   "file_extension": ".py",
   "mimetype": "text/x-python",
   "name": "python",
   "nbconvert_exporter": "python",
   "pygments_lexer": "ipython3",
   "version": "3.8.3"
  }
 },
 "nbformat": 4,
 "nbformat_minor": 4
}
