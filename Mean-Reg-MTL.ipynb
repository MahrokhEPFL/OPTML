{
 "cells": [
  {
   "cell_type": "markdown",
   "metadata": {},
   "source": [
    "# Main notebook for testing Mocha\n",
    "\n",
    "## 0. Load packages\n",
    "\n"
   ]
  },
  {
   "cell_type": "code",
   "execution_count": 1,
   "metadata": {},
   "outputs": [],
   "source": [
    "import os\n",
    "import sys\n",
    "import copy\n",
    "import torch\n",
    "import scipy\n",
    "import numpy as np\n",
    "from numpy import matlib as mb\n",
    "import matplotlib.pyplot as plt\n",
    "sys.path.append(os.getcwd()+'/assistive_functions')\n",
    "\n",
    "from household import Household, SyNet\n",
    "from utils_households import get_lags, connect_to_households"
   ]
  },
  {
   "cell_type": "markdown",
   "metadata": {},
   "source": [
    "## 1. Load households data"
   ]
  },
  {
   "cell_type": "code",
   "execution_count": 2,
   "metadata": {},
   "outputs": [
    {
     "name": "stdout",
     "output_type": "stream",
     "text": [
      "[INFO] no filtering by group\n",
      "\n",
      "[Warning]: data size mismatch\n",
      "[Warning] data is too short (less than 1 year)\n",
      "[Warning] less than 1 year of data\n",
      "[INFO] households discarded\n",
      "\n",
      "[Warning] less than 1 year of data\n",
      "[INFO] households discarded\n",
      "\n",
      "\n",
      "[INFO] Connected to 10 households\n"
     ]
    }
   ],
   "source": [
    "# number of devices and their group\n",
    "num_households = 10\n",
    "#group=\"ACORN-A\"\n",
    "stdorToU=\"ToU\"\n",
    "household_options = {\"num_households\":num_households,\n",
    "#                    \"group\":group,\n",
    "                    \"stdorToU\":stdorToU}\n",
    "\n",
    "households = connect_to_households(household_options)\n",
    "\n",
    "\n",
    "# regression options\n",
    "options = {\"dayparts\":[],\n",
    "           \"resolution\":60,\n",
    "           \"remove_holiday\":True,\n",
    "           \"filt_days\":['Tuesday'], \n",
    "           \"replacement_method\":'week_before',\n",
    "           \"feat_cols\":['hourofd_x', 'hourofd_y', 'dayofy_x', 'dayofy_y', 'temperature_hourly']}\n",
    "step_ahead=1\n",
    "\n",
    "# find dates when all households had data\n",
    "date_st = []\n",
    "date_en = []\n",
    "for household in households:\n",
    "    date_st.append(household.date_join)\n",
    "    date_en.append(household.date_left)\n",
    "date_st_com = max(date_st)\n",
    "date_en_com = min(date_en)\n",
    "\n",
    "# construct dataset\n",
    "for household in households:\n",
    "    household.construct_dataset(lags=get_lags(step_ahead), step_ahead=step_ahead, options=options, \n",
    "                                date_st=date_st_com, date_en=date_en_com)\n",
    "    household.train_test_split(test_frac=0.25)"
   ]
  },
  {
   "cell_type": "markdown",
   "metadata": {},
   "source": [
    "## 2. Mean-Regularized MTL Training"
   ]
  },
  {
   "cell_type": "code",
   "execution_count": 3,
   "metadata": {},
   "outputs": [],
   "source": [
    "def print_param(model, message=''):\n",
    "    with np.printoptions(precision=3, suppress=True):\n",
    "        print(message+' model: \\nbias = ' + \n",
    "              str(model.state_dict()['linear.bias'].numpy()[0]) +\n",
    "              ', \\nweights = ' + \n",
    "              str(model.state_dict()['linear.weight'].numpy().flatten()))\n",
    "    return\n",
    "\n",
    "\n",
    "def get_av_weights(households, **kwargs):\n",
    "    models = kwargs.get('models', [household.model_mtl for household in households])\n",
    "    in_dim = households[0].info['num_features']\n",
    "    # find total samples\n",
    "    tot_samp = 0\n",
    "    for household in households:\n",
    "        tot_samp = tot_samp + household.info['train_samples']\n",
    "    # init\n",
    "    bias = np.zeros(1)\n",
    "    wght = np.zeros(in_dim)\n",
    "    # aggregate    \n",
    "    for model in models:\n",
    "        # aggregate updates\n",
    "        bias_hh = model.state_dict()['linear.bias'].numpy()\n",
    "        wght_hh = model.state_dict()['linear.weight'].numpy().flatten()\n",
    "        bias = bias_hh*household.info['train_samples']/tot_samp + bias\n",
    "        wght = wght_hh*household.info['train_samples']/tot_samp + wght \n",
    "    return bias, wght\n",
    "\n",
    "    \n",
    "def mtl_train(households, lr, lambda_, inner_iters, outer_iters, optim_method, **kwargs):\n",
    "    '''\n",
    "    optim_method: Adam or SGD\n",
    "    '''\n",
    "    np.random.seed(30)\n",
    "    torch.manual_seed(30)\n",
    "    \n",
    "    verbose = kwargs.get('verbose', False)\n",
    "    # find total samples\n",
    "    tot_samp = 0\n",
    "    for household in households:\n",
    "        tot_samp = tot_samp + household.info['train_samples']\n",
    "    \n",
    "    \n",
    "    # initialize mtl for households\n",
    "    init_state_dicts=[]\n",
    "    for household in households:\n",
    "        household.mtl_init(lr)\n",
    "        init_state_dicts.append(copy.deepcopy(household.model_mtl.state_dict()))\n",
    "    # initialize w_0\n",
    "    in_dim=households[0].info['num_features']\n",
    "    w_0 = SyNet(torch, in_dim=in_dim, out_dim=1)\n",
    "    # find av initial weights\n",
    "    init_bias, init_wght = get_av_weights(households)\n",
    "    w_0.state_dict()['linear.weight'].copy_(torch.tensor(init_wght.reshape((1,len(init_wght)))))\n",
    "    w_0.state_dict()['linear.bias'].copy_(torch.tensor(init_bias))\n",
    "    \n",
    "    # create optimizer\n",
    "    if optim_method=='Adam':\n",
    "        optim = torch.optim.Adam(params=w_0.parameters(), lr=lr)\n",
    "    else:\n",
    "        if optim_method=='SGD':\n",
    "            optim = torch.optim.SGD(params=w_0.parameters(), momentum=0, lr=lr)\n",
    "        else:\n",
    "            print('Unsupported optimization method')\n",
    "            return\n",
    "    \n",
    "    \n",
    "    # iterate\n",
    "    for i in np.arange(outer_iters):\n",
    "        if verbose:\n",
    "            print('\\n before iter ' + str(i))\n",
    "            print_param(w_0, 'w_0 ')\n",
    "            \n",
    "        # initialize param update\n",
    "        cur_state_dict=copy.deepcopy(w_0.state_dict())\n",
    "        w_0_wght = w_0.state_dict()['linear.weight']\n",
    "        w_0_bias = w_0.state_dict()['linear.bias']\n",
    "        delta_bias = np.zeros(1)\n",
    "        delta_wght = np.zeros(in_dim)\n",
    "        # run minibatch SGD for each household\n",
    "        for household in households:\n",
    "            # run minibatch SGD and get update in parameters\n",
    "            db, dw = household.mtl_iterate(w_0_wght=w_0_wght, w_0_bias=w_0_bias,\n",
    "                                           inner_iters=inner_iters, \n",
    "                                           lambda_=lambda_, verbose=False)\n",
    "            # aggregate updates\n",
    "            delta_bias = db*household.info['train_samples']/tot_samp + delta_bias\n",
    "            delta_wght = dw*household.info['train_samples']/tot_samp + delta_wght\n",
    "            # reset w_0\n",
    "            for key, value in cur_state_dict.items():\n",
    "                w_0.state_dict()[key].copy_(value)\n",
    "        # update w_0\n",
    "        new_bias = w_0_bias + torch.tensor(delta_bias.reshape((1)))\n",
    "        new_wght = w_0_wght + torch.tensor(delta_wght.reshape((1,in_dim)))\n",
    "        w_0.state_dict()['linear.weight'].copy_(new_wght)\n",
    "        w_0.state_dict()['linear.bias'].copy_(new_bias)\n",
    "        #print_param(w_0, 'Iteration ' + str(i) + ' ')\n",
    "\n",
    "        #print(' ')\n",
    "    # print trained parameters\n",
    "    #print_param(w_0, 'Trained w_0 ')\n",
    "    return w_0, init_state_dicts"
   ]
  },
  {
   "cell_type": "markdown",
   "metadata": {},
   "source": [
    "## 3. Sanity Check\n",
    "This section is for checking if the distributed MTL algorithm works correctly by experimenting with two extreme cases, when lambda=0 and lambda is very large. \n",
    "\n",
    "### 3.1 No regularization\n",
    "First, we set lambda=0 to remove the regularization term. In this scenario, the MTL algorithm must return the same models as if each household fits a personal model on its' own local dataset. We run two tests: 1) apply MTL with lambda=0, 2) fit linear models to local datasets separately. If initiated at the same parameters, both methods return the same weights and bias. "
   ]
  },
  {
   "cell_type": "code",
   "execution_count": 4,
   "metadata": {},
   "outputs": [
    {
     "name": "stdout",
     "output_type": "stream",
     "text": [
      "\n",
      "Sanity check lambda=0 was successful.\n"
     ]
    }
   ],
   "source": [
    "# METHOD 1: MTL\n",
    "inner_iters = 10\n",
    "outer_iters = 1\n",
    "lr = 0.1\n",
    "lambda_ = 0\n",
    "w_0, init_state_dicts = mtl_train(households, lr=lr, lambda_=lambda_, \n",
    "          inner_iters=inner_iters, outer_iters=outer_iters, \n",
    "          optim_method='Adam', verbose=False)\n",
    "\n",
    "# METHOD 2: separate local models\n",
    "for h_ind, household in enumerate(households):\n",
    "    household.fit_personal_model(method='Adam', lr=lr, \n",
    "                                 iterations = inner_iters*outer_iters, \n",
    "                                 init_state_dict=init_state_dicts[h_ind])\n",
    "\n",
    "# Compare\n",
    "tol = 5e-3\n",
    "# compare mean model\n",
    "matched = True\n",
    "av_bias, av_wght = get_av_weights(households, models = [household.personal_lr for household in households]) \n",
    "w_0_bias = w_0.state_dict()['linear.bias'].numpy()\n",
    "w_0_wght = w_0.state_dict()['linear.weight'].numpy().flatten()\n",
    "dff_bias = np.abs(av_bias - w_0_bias)\n",
    "dff_wght = np.abs(av_wght - w_0_wght)\n",
    "if max(dff_bias)>tol:\n",
    "    matched=False\n",
    "    print('\\nSanity check lambda=0 failed for w_0 due to bias mismatch.')\n",
    "    print(w_0_bias)\n",
    "    print(av_bias)\n",
    "if max(dff_wght)>tol:\n",
    "    matched=False\n",
    "    print('\\nSanity check lambda=0 failed for w_0 due to weight mismatch.')\n",
    "    print(w_0_wght)\n",
    "    print(av_wght)\n",
    "    \n",
    "# compare personal models\n",
    "for h_ind, household in enumerate(households):\n",
    "    plr_bias = household.personal_lr.state_dict()['linear.bias'].numpy()\n",
    "    plr_wght = household.personal_lr.state_dict()['linear.weight'].numpy().flatten()\n",
    "    mtl_bias = household.model_mtl.state_dict()['linear.bias'].numpy()\n",
    "    mtl_wght = household.model_mtl.state_dict()['linear.weight'].numpy().flatten()\n",
    "    dff_bias = np.abs(plr_bias - mtl_bias)\n",
    "    dff_wght = np.abs(plr_wght - mtl_wght)\n",
    "    if max(dff_bias) > tol:\n",
    "        matched=False\n",
    "        print('\\nSanity check lambda=0 failed for household ' + str(h_ind) + ' due to bias mismatch.')\n",
    "        print(plr_bias)\n",
    "        print(mtl_bias)\n",
    "    if max(dff_wght) > tol:\n",
    "        matched=False\n",
    "        print('\\nSanity check lambda=0 failed for household ' + str(h_ind) + ' due to weight mismatch.')\n",
    "        print(plr_wght)\n",
    "        print(mtl_wght)\n",
    "if matched:\n",
    "    print('\\nSanity check lambda=0 was successful.')"
   ]
  },
  {
   "cell_type": "markdown",
   "metadata": {},
   "source": [
    "#### 3.2 Highly regularized"
   ]
  },
  {
   "cell_type": "code",
   "execution_count": 5,
   "metadata": {},
   "outputs": [
    {
     "name": "stdout",
     "output_type": "stream",
     "text": [
      "\n",
      "Sanity check lambda=inf was successful.\n"
     ]
    }
   ],
   "source": [
    "inner_iters = 20\n",
    "outer_iters = 1\n",
    "lr = 0.1\n",
    "lambda_ = 100000\n",
    "w_0, init_state_dict = mtl_train(households, lr=lr, lambda_=lambda_, \n",
    "          inner_iters=inner_iters, outer_iters=outer_iters, \n",
    "          optim_method='Adam', verbose=False)\n",
    "\n",
    "# Compare\n",
    "tol = 1e-1\n",
    "w_0_bias = w_0.state_dict()['linear.bias'].numpy()\n",
    "w_0_wght = w_0.state_dict()['linear.weight'].numpy().flatten()\n",
    "for household in households:\n",
    "    mtl_bias = household.model_mtl.state_dict()['linear.bias'].numpy()\n",
    "    mtl_wght = household.model_mtl.state_dict()['linear.weight'].numpy().flatten()\n",
    "    dff_bias = np.abs(w_0_bias - mtl_bias)\n",
    "    dff_wght = np.abs(w_0_wght - mtl_wght)\n",
    "    if np.all(dff_bias<tol) and np.all(dff_wght<tol):\n",
    "        matched=True\n",
    "    else:\n",
    "        matched=False\n",
    "        print('\\nSanity check lambda=inf failed.')\n",
    "        break\n",
    "if matched:\n",
    "    print('\\nSanity check lambda=inf was successful.')"
   ]
  },
  {
   "cell_type": "markdown",
   "metadata": {},
   "source": [
    "## 4. Benchmarking"
   ]
  },
  {
   "cell_type": "code",
   "execution_count": 6,
   "metadata": {},
   "outputs": [],
   "source": [
    "lr = 0.1\n",
    "inner_iters = 30\n",
    "outer_iters = 30"
   ]
  },
  {
   "cell_type": "code",
   "execution_count": 7,
   "metadata": {},
   "outputs": [],
   "source": [
    "def compute_av_consumption(households):\n",
    "    # check length of data\n",
    "    data_len_trn = households[0].info['train_samples']\n",
    "    data_len_tst = households[0].info['test_samples']\n",
    "    for household in households:\n",
    "        if not household.info['train_samples']==data_len_trn:\n",
    "            print('[Error] number of train samples of households was not equal')\n",
    "            return\n",
    "        if not household.info['test_samples']==data_len_tst:\n",
    "            print('[Error] number of test samples of households was not equal')\n",
    "            return\n",
    "    \n",
    "    # initialize average consumption\n",
    "    y_av_trn = np.zeros((data_len_trn,1))\n",
    "    y_av_tst = np.zeros((data_len_tst,1))\n",
    "    # add up\n",
    "    for household in households:\n",
    "        y_av_trn += household.y_train\n",
    "        y_av_tst += household.y_test\n",
    "    # scale\n",
    "    y_av_trn = y_av_trn/len(households)\n",
    "    y_av_tst = y_av_tst/len(households)\n",
    "    # flatten\n",
    "    y_av_trn = y_av_trn.flatten()\n",
    "    y_av_tst = y_av_tst.flatten()\n",
    "    \n",
    "    return y_av_trn, y_av_tst\n",
    "\n",
    "\n",
    "# get real values\n",
    "y_av_trn, y_av_tst = compute_av_consumption(households)"
   ]
  },
  {
   "cell_type": "code",
   "execution_count": 8,
   "metadata": {},
   "outputs": [],
   "source": [
    "iterations = inner_iters*outer_iters\n",
    "in_dim=households[0].info['num_features']\n",
    "benchmark_models=[]\n",
    "\n",
    "for household in households:\n",
    "    model_bnc = SyNet(torch, in_dim=in_dim , out_dim=1)\n",
    "    optim = torch.optim.Adam(params=model_bnc.parameters(),lr=lr)\n",
    "    # iterate\n",
    "    for i in range(iterations):\n",
    "        optim.zero_grad()\n",
    "        # predict\n",
    "        output = model_bnc(torch.FloatTensor(household.X_train))\n",
    "        # calculate loss\n",
    "        loss = torch.nn.functional.mse_loss(output, torch.FloatTensor(y_av_trn.reshape(-1, 1)))\n",
    "        loss.backward()\n",
    "        optim.step()\n",
    "    benchmark_models.append(model_bnc)"
   ]
  },
  {
   "cell_type": "code",
   "execution_count": 9,
   "metadata": {},
   "outputs": [
    {
     "data": {
      "text/plain": [
       "tensor([0.2928])"
      ]
     },
     "execution_count": 9,
     "metadata": {},
     "output_type": "execute_result"
    }
   ],
   "source": [
    "# initialize w_0\n",
    "in_dim=households[0].info['num_features']\n",
    "tsi = SyNet(torch, in_dim=in_dim, out_dim=1)\n",
    "# find av personal weights\n",
    "av_bias, av_wght = get_av_weights(households, models = [household.personal_lr for household in households]) \n",
    "tsi.state_dict()['linear.weight'].copy_(torch.tensor(av_wght.reshape((1,len(av_wght)))))\n",
    "tsi.state_dict()['linear.bias'].copy_(torch.tensor(av_bias))"
   ]
  },
  {
   "cell_type": "markdown",
   "metadata": {},
   "source": [
    "## 5. Performance Test"
   ]
  },
  {
   "cell_type": "code",
   "execution_count": 10,
   "metadata": {},
   "outputs": [],
   "source": [
    "# params\n",
    "log_lambdas = np.linspace(0,1.5,20)\n",
    "lambdas = pow(10, log_lambdas)"
   ]
  },
  {
   "cell_type": "code",
   "execution_count": 17,
   "metadata": {},
   "outputs": [
    {
     "data": {
      "image/png": "[encoded data removed]",
      "text/plain": [
       "<Figure size 432x432 with 2 Axes>"
      ]
     },
     "metadata": {
      "needs_background": "light"
     },
     "output_type": "display_data"
    }
   ],
   "source": [
    "# two-stage inference\n",
    "mse_tsi_trn = np.zeros(len(households))    # init\n",
    "mse_tsi_tst = np.zeros(len(households))    # init\n",
    "for h_ind, household in enumerate(households):\n",
    "    # predict with two-step inference\n",
    "    pred_tsi_trn = household.predict(household.X_train, method='Adam', model=tsi)\n",
    "    pred_tsi_tst = household.predict(household.X_test,  method='Adam', model=tsi)\n",
    "    # errors of tsi\n",
    "    mse_tsi_trn[h_ind] = np.mean((pred_tsi_trn-y_av_trn)**2)\n",
    "    mse_tsi_tst[h_ind] = np.mean((pred_tsi_tst-y_av_tst)**2)\n",
    "# mean and std of errors\n",
    "mse_tsi_trn_av = np.mean(mse_tsi_trn, axis=0)\n",
    "mse_tsi_tst_av = np.mean(mse_tsi_tst, axis=0)\n",
    "mse_tsi_trn_sd = np.var(mse_tsi_trn, axis=0)**0.5\n",
    "mse_tsi_tst_sd = np.var(mse_tsi_tst, axis=0)**0.5\n",
    "\n",
    "\n",
    "# benchmaak\n",
    "mse_bnc_trn = np.zeros(len(households))\n",
    "mse_bnc_tst = np.zeros(len(households))\n",
    "# predict\n",
    "for h_ind, household in enumerate(households): \n",
    "    # predict with benchmark\n",
    "    pred_bnc_trn = household.predict(household.X_train, method='Adam', model=benchmark_models[h_ind])\n",
    "    pred_bnc_tst = household.predict(household.X_test,  method='Adam', model=benchmark_models[h_ind])\n",
    "    # errors of bnc\n",
    "    mse_bnc_trn[h_ind] = np.mean((pred_bnc_trn-y_av_trn)**2)\n",
    "    mse_bnc_tst[h_ind] = np.mean((pred_bnc_tst-y_av_tst)**2)\n",
    "# mean and std of errors\n",
    "mse_bnc_trn_av = np.mean(mse_bnc_trn, axis=0)\n",
    "mse_bnc_tst_av = np.mean(mse_bnc_tst, axis=0)\n",
    "mse_bnc_trn_sd = np.var(mse_bnc_trn, axis=0)**0.5\n",
    "mse_bnc_tst_sd = np.var(mse_bnc_tst, axis=0)**0.5\n",
    "\n",
    "\n",
    "# w_0 and w_n\n",
    "mse_w_n_trn = np.zeros((len(households), len(lambdas)))\n",
    "mse_w_n_tst = np.zeros((len(households), len(lambdas)))\n",
    "mse_w_0_trn = np.zeros((len(households), len(lambdas)))\n",
    "mse_w_0_tst = np.zeros((len(households), len(lambdas)))\n",
    "# grid search lambda\n",
    "for l_ind, lambda_ in enumerate(lambdas): \n",
    "    # train\n",
    "    w_0, init_state_dict = mtl_train(households, lr=lr, lambda_=lambda_, \n",
    "              inner_iters=inner_iters, outer_iters=outer_iters, \n",
    "              optim_method='Adam', verbose=False)\n",
    "    # predict\n",
    "    for h_ind, household in enumerate(households): \n",
    "        # predict with w_n \n",
    "        pred_w_n_trn = household.predict(household.X_train, method='MTL')\n",
    "        pred_w_n_tst = household.predict(household.X_test,  method='MTL')\n",
    "        # predict with w_0\n",
    "        pred_w_0_trn = household.predict(household.X_train, method='MTL', model=w_0)\n",
    "        pred_w_0_tst = household.predict(household.X_test,  method='MTL', model=w_0)\n",
    "        # errors of w_n\n",
    "        mse_w_n_trn[h_ind, l_ind] = np.mean((pred_w_n_trn-y_av_trn)**2)\n",
    "        mse_w_n_tst[h_ind, l_ind] = np.mean((pred_w_n_tst-y_av_tst)**2)\n",
    "        # errors of w_0\n",
    "        mse_w_0_trn[h_ind, l_ind] = np.mean((pred_w_0_trn-y_av_trn)**2)\n",
    "        mse_w_0_tst[h_ind, l_ind] = np.mean((pred_w_0_tst-y_av_tst)**2) \n",
    "# mean and std of errors\n",
    "mse_w_n_trn_av = np.mean(mse_w_n_trn, axis=0)\n",
    "mse_w_n_tst_av = np.mean(mse_w_n_tst, axis=0)\n",
    "mse_w_0_trn_av = np.mean(mse_w_0_trn, axis=0)\n",
    "mse_w_0_tst_av = np.mean(mse_w_0_tst, axis=0)\n",
    "mse_w_n_trn_sd = np.var(mse_w_n_trn, axis=0)**0.5\n",
    "mse_w_n_tst_sd = np.var(mse_w_n_tst, axis=0)**0.5\n",
    "mse_w_0_trn_sd = np.var(mse_w_0_trn, axis=0)**0.5\n",
    "mse_w_0_tst_sd = np.var(mse_w_0_tst, axis=0)**0.5\n",
    "\n",
    "# plot\n",
    "xx = log_lambdas\n",
    "fig,axs = plt.subplots(2,1,figsize=(6,6))\n",
    "axs[0].scatter(xx, mse_w_n_trn_av, color='orange', label='w_n')\n",
    "axs[0].scatter(xx, mse_w_0_trn_av, color='purple', label='w_0')\n",
    "axs[0].hlines(mse_bnc_trn_av, xx[0], xx[-1], colors='blue', label='benchmark')\n",
    "axs[0].hlines(mse_tsi_trn_av, xx[0], xx[-1], color='cyan',   label='2-step inf')\n",
    "#axs[0].fill_between(xx, mse_w_n_trn_av-1.96*mse_w_n_trn_sd, mse_w_n_trn_av+1.96*mse_w_n_trn_sd, alpha=0.2, color='blue')\n",
    "#axs[0].fill_between(xx, mse_bnc_trn_av-1.96*mse_bnc_trn_sd, mse_bnc_trn_av+1.96*mse_bnc_trn_sd, alpha=0.2, color='purple')\n",
    "#axs[0].fill_between(xx, mse_tsi_trn_av-1.96*mse_tsi_trn_sd, mse_tsi_trn_av+1.96*mse_tsi_trn_sd, alpha=0.2, color='green')\n",
    "axs[0].fill_between(xx, mse_w_0_trn_av-1.96*mse_w_0_trn_sd, mse_w_0_trn_av+1.96*mse_w_0_trn_sd,alpha=0.2, color='purple')\n",
    "axs[0].set_title('Train')\n",
    "axs[1].scatter(xx, mse_w_n_tst_av, color='orange', label='w_n')\n",
    "axs[1].scatter(xx, mse_w_0_tst_av, color='purple', label='w_0')\n",
    "axs[1].hlines(mse_bnc_tst_av, xx[0], xx[-1], colors='blue', label='benchmark')\n",
    "axs[1].hlines(mse_tsi_tst_av, xx[0], xx[-1], color='cyan',   label='2-step inf')\n",
    "#axs[1].fill_between(xx, mse_w_n_tst_av-1.96*mse_w_n_tst_sd, mse_w_n_tst_av+1.96*mse_w_n_tst_sd, alpha=0.2, color='blue')\n",
    "#axs[1].fill_between(xx, mse_bnc_tst_av-1.96*mse_bnc_tst_sd, mse_bnc_tst_av+1.96*mse_bnc_tst_sd, alpha=0.2, color='purple')\n",
    "#axs[1].fill_between(xx, mse_tsi_tst_av-1.96*mse_tsi_tst_sd, mse_tsi_tst_av+1.96*mse_tsi_tst_sd, alpha=0.2, color='green')\n",
    "axs[1].fill_between(xx, mse_w_0_tst_av-1.96*mse_w_0_tst_sd, mse_w_0_tst_av+1.96*mse_w_0_tst_sd,alpha=0.2, color='purple')\n",
    "axs[1].set_title('Test')\n",
    "for ax in axs:\n",
    "    ax.legend()\n",
    "    ax.set_xlabel('log(lambda)')\n",
    "    ax.set_ylabel('MSE over households')\n",
    "plt.tight_layout()\n",
    "plt.show()\n",
    "\n",
    "plt.savefig('res.pdf', bbox_inches='tight')"
   ]
  },
  {
   "cell_type": "code",
   "execution_count": 31,
   "metadata": {},
   "outputs": [
    {
     "data": {
      "image/png": "[encoded data removed]",
      "text/plain": [
       "<Figure size 432x432 with 2 Axes>"
      ]
     },
     "metadata": {
      "needs_background": "light"
     },
     "output_type": "display_data"
    }
   ],
   "source": [
    "# plot\n",
    "xx = log_lambdas\n",
    "fig,axs = plt.subplots(2,1,figsize=(6,6))\n",
    "axs[0].scatter(xx, mse_w_n_trn_av, color='orange', label='w_n')\n",
    "axs[0].scatter(xx, mse_w_0_trn_av, color='purple', label='w_0')\n",
    "axs[0].hlines(mse_bnc_trn_av, xx[0], xx[-1], colors='blue', label='benchmark')\n",
    "axs[0].hlines(mse_tsi_trn_av, xx[0], xx[-1], color='cyan',   label='2-step inf')\n",
    "#axs[0].fill_between(xx, mse_w_n_trn_av-1.96*mse_w_n_trn_sd, mse_w_n_trn_av+1.96*mse_w_n_trn_sd, alpha=0.2, color='blue')\n",
    "#axs[0].fill_between(xx, mse_bnc_trn_av-1.96*mse_bnc_trn_sd, mse_bnc_trn_av+1.96*mse_bnc_trn_sd, alpha=0.2, color='purple')\n",
    "#axs[0].fill_between(xx, mse_tsi_trn_av-1.96*mse_tsi_trn_sd, mse_tsi_trn_av+1.96*mse_tsi_trn_sd, alpha=0.2, color='green')\n",
    "axs[0].fill_between(xx, mse_w_0_trn_av-1.96*mse_w_0_trn_sd, mse_w_0_trn_av+1.96*mse_w_0_trn_sd,alpha=0.2, color='purple')\n",
    "axs[0].set_title('Train')\n",
    "axs[1].scatter(xx, mse_w_n_tst_av, color='orange', label='w_n')\n",
    "axs[1].scatter(xx, mse_w_0_tst_av, color='purple', label='w_0')\n",
    "axs[1].hlines(mse_bnc_tst_av, xx[0], xx[-1], colors='blue', label='benchmark')\n",
    "axs[1].hlines(mse_tsi_tst_av, xx[0], xx[-1], color='cyan',   label='2-step inf')\n",
    "#axs[1].fill_between(xx, mse_w_n_tst_av-1.96*mse_w_n_tst_sd, mse_w_n_tst_av+1.96*mse_w_n_tst_sd, alpha=0.2, color='blue')\n",
    "#axs[1].fill_between(xx, mse_bnc_tst_av-1.96*mse_bnc_tst_sd, mse_bnc_tst_av+1.96*mse_bnc_tst_sd, alpha=0.2, color='purple')\n",
    "#axs[1].fill_between(xx, mse_tsi_tst_av-1.96*mse_tsi_tst_sd, mse_tsi_tst_av+1.96*mse_tsi_tst_sd, alpha=0.2, color='green')\n",
    "axs[1].fill_between(xx, mse_w_0_tst_av-1.96*mse_w_0_tst_sd, mse_w_0_tst_av+1.96*mse_w_0_tst_sd,alpha=0.2, color='purple')\n",
    "axs[1].set_title('Test')\n",
    "for ax in axs:\n",
    "    ax.legend()\n",
    "    ax.set_xlabel('log(lambda)')\n",
    "    ax.set_ylabel('MSE over households')\n",
    "plt.tight_layout()\n",
    "plt.show()\n",
    "\n",
    "fig.savefig('res.pdf')"
   ]
  },
  {
   "cell_type": "code",
   "execution_count": 33,
   "metadata": {},
   "outputs": [
    {
     "name": "stdout",
     "output_type": "stream",
     "text": [
      "0.06142524491374253\n",
      "0.058840855654836856\n",
      "0.05781544039885602\n",
      "0.03849720840486427\n"
     ]
    }
   ],
   "source": [
    "print(min(mse_w_0_tst_av))\n",
    "print(mse_bnc_tst_av)\n",
    "\n",
    "print(min(mse_w_0_trn_av))\n",
    "print(mse_bnc_trn_av)"
   ]
  },
  {
   "cell_type": "code",
   "execution_count": 34,
   "metadata": {},
   "outputs": [
    {
     "name": "stdout",
     "output_type": "stream",
     "text": [
      "3\n"
     ]
    }
   ],
   "source": [
    "# find if w_n was better for anyone\n",
    "num = 0\n",
    "for h_ind in np.arange(len(households)):\n",
    "    min_wn = min(mse_w_n_tst[h_ind, :])\n",
    "    min_w0 = min(mse_w_0_tst[h_ind, :])\n",
    "    if min_w0>=min_wn:\n",
    "        num +=1\n",
    "print(num)"
   ]
  },
  {
   "cell_type": "code",
   "execution_count": null,
   "metadata": {},
   "outputs": [],
   "source": []
  }
 ],
 "metadata": {
  "kernelspec": {
   "display_name": "Python 3",
   "language": "python",
   "name": "python3"
  },
  "language_info": {
   "codemirror_mode": {
    "name": "ipython",
    "version": 3
   },
   "file_extension": ".py",
   "mimetype": "text/x-python",
   "name": "python",
   "nbconvert_exporter": "python",
   "pygments_lexer": "ipython3",
   "version": "3.8.3"
  }
 },
 "nbformat": 4,
 "nbformat_minor": 4
}
