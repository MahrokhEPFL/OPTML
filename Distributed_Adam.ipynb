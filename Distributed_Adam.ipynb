{
 "cells": [
  {
   "cell_type": "code",
   "execution_count": 1,
   "metadata": {},
   "outputs": [],
   "source": [
    "import os\n",
    "import sys\n",
    "import copy\n",
    "import math\n",
    "import torch\n",
    "import random\n",
    "import syft as sy\n",
    "import numpy as np\n",
    "import pandas as pd\n",
    "import tensorflow as tf\n",
    "import statsmodels.api as sm\n",
    "import matplotlib.pyplot as plt\n",
    "from sklearn.utils import shuffle\n",
    "from collections import OrderedDict\n",
    "sys.path.append(os.getcwd()+'/assistive_functions')\n",
    "\n",
    "from SMWrapper import SMWrapper\n",
    "from household import Household, SyNet\n",
    "from load_data import get_data_of_a_person\n",
    "from construct_dataset import construct_dataset\n",
    "from sklearn.model_selection import train_test_split\n",
    "\n",
    "random.seed(30)\n",
    "np.random.seed(30)"
   ]
  },
  {
   "cell_type": "code",
   "execution_count": 2,
   "metadata": {},
   "outputs": [],
   "source": [
    "# candidate lags\n",
    "def get_lags(step_ahead, num_days=np.array([0,1,7])):\n",
    "    lags = []\n",
    "    for i in num_days:\n",
    "        lags = lags + [48*i, 48*i+1, 48*i+2]\n",
    "    lags = [x-step_ahead+1 for x in lags if x>=step_ahead]\n",
    "    return lags\n",
    "\n",
    "def connect_to_households(household_options):\n",
    "    # get candidate houses from the selected group\n",
    "    path = os.getcwd()+\"/input/informations_households.csv.xls\"\n",
    "    data = pd.read_csv(path)\n",
    "    # filter by group\n",
    "    candidates = data.loc[data.Acorn==household_options['group']]\n",
    "    # filter by tariff \n",
    "    candidates = candidates.loc[candidates.stdorToU==household_options['stdorToU']]\n",
    "    # print(candidates)    \n",
    "    # TODO: shuffle\n",
    "    households=[]\n",
    "    step_ahead=1\n",
    "\n",
    "    # create households\n",
    "    needed = household_options['num_households']\n",
    "    num = 0\n",
    "    while needed>0:\n",
    "        # check if there are enough households\n",
    "        if num>=len(candidates):\n",
    "            num_households = len(households)\n",
    "            print('[Warning] could not find enough households')\n",
    "            print('[Warning] changed number of households to ' + str(num_households))\n",
    "        # get household\n",
    "        household = Household(house_id=candidates.LCLid.iloc[num],\n",
    "                               block_num=candidates.file.iloc[num])\n",
    "        # load data with regression options\n",
    "        household.construct_dataset(lags=get_lags(step_ahead), step_ahead=step_ahead, options=options)\n",
    "        if len(household.y) > 0:\n",
    "            households.append(household)\n",
    "            needed = needed-1\n",
    "        # search next\n",
    "        num = num+1\n",
    "\n",
    "    print('\\n[INFO] Connected to ' + str(len(households)) + ' households')\n",
    "    return households"
   ]
  },
  {
   "cell_type": "markdown",
   "metadata": {},
   "source": [
    "### Connect to households"
   ]
  },
  {
   "cell_type": "code",
   "execution_count": 3,
   "metadata": {},
   "outputs": [
    {
     "name": "stdout",
     "output_type": "stream",
     "text": [
      "\n",
      "[INFO] Connected to 4 households\n"
     ]
    }
   ],
   "source": [
    "# number of devices and their group\n",
    "num_households = 4\n",
    "group=\"ACORN-L\"\n",
    "stdorToU=\"ToU\"\n",
    "household_options = {\"num_households\":num_households,\n",
    "                    \"group\":group,\n",
    "                    \"stdorToU\":stdorToU}\n",
    "\n",
    "# regression options\n",
    "options = {\"dayparts\":[],\n",
    "           \"resolution\":60,\n",
    "           \"remove_holiday\":True,\n",
    "           \"filt_days\":['Tuesday'], \n",
    "           \"replacement_method\":'week_before',\n",
    "           \"feat_cols\":['hourofd_x', 'hourofd_y', 'dayofy_x', 'dayofy_y', 'temperature_hourly']}\n",
    "step_ahead=1\n",
    "\n",
    "households = connect_to_households(household_options)\n",
    "\n",
    "# construct dataset\n",
    "for household in households:\n",
    "    household.construct_dataset(lags=get_lags(step_ahead), step_ahead=step_ahead, options=options)\n",
    "    household.train_test_split(test_frac=0.25)"
   ]
  },
  {
   "cell_type": "markdown",
   "metadata": {},
   "source": [
    "# 1. Training Algorithms\n",
    "## 1.1 Distributed Training\n",
    "\n",
    "Problem setup:\n",
    "* Each household has its' own local private dataset\n",
    "* A server aims at training a shared model for all households\n",
    "* The server does not have direct access to households' local datasets\n",
    "* The server can ask households to run a learning algorithm localy and send back results\n",
    "\n",
    "Algorithm: at each iteration,\n",
    "* The server sends an initial model, a training method (Adam or SGD), and number of iterations (mini-batch size) to all households\n",
    "* The households follow training instructions to fit the received model on their local datasets \n",
    "* Each households submits the change in the initial model parameters to the server\n",
    "* The server collects parameter updates from all households, weights them by the training set size of the households local dataset divided by total training size owned by all households, and aggregates all changes\n",
    "* The aggregated parameters updates calculated by combining parameter updates from individual households is used to build the model at this iteration"
   ]
  },
  {
   "cell_type": "code",
   "execution_count": 4,
   "metadata": {},
   "outputs": [],
   "source": [
    "def print_param(model, message=''):\n",
    "    with np.printoptions(precision=3, suppress=True):\n",
    "        print(message+' model: \\nbias = ' + \n",
    "              str(model.state_dict()['linear.bias'].numpy()[0]) +\n",
    "              ', \\nweights = ' + \n",
    "              str(model.state_dict()['linear.weight'].numpy().flatten()))\n",
    "    return\n",
    "        \n",
    "        \n",
    "def distributed_train(households, lr, mbsize, total_it, optim_method, **kwargs):\n",
    "    '''\n",
    "    optim_method: Adam or SGD\n",
    "    '''\n",
    "    random.seed(30)\n",
    "    np.random.seed(30)\n",
    "    torch.manual_seed(30)\n",
    "    # find total samples\n",
    "    tot_samp = 0\n",
    "    for household in households:\n",
    "        tot_samp = tot_samp + household.info['train_samples']\n",
    "    # initialize model\n",
    "    if 'init_state_dict' in kwargs:\n",
    "        set_init = True\n",
    "        init_state_dict = kwargs.get('init_state_dict')\n",
    "    else:\n",
    "        set_init = False\n",
    "    # create an initial model with random parameters\n",
    "    in_dim=households[0].info['num_features']\n",
    "    model = SyNet(torch, in_dim=in_dim, out_dim=1)\n",
    "    if set_init:\n",
    "        for key, value in init_state_dict.items():\n",
    "            model.state_dict()[key].copy_(value)\n",
    "        print_param(model, 'Initial DA ')\n",
    "    # create optimizer\n",
    "    if optim_method=='Adam':\n",
    "        optim = torch.optim.Adam(params=model.parameters(), lr=lr)\n",
    "    else:\n",
    "        if optim_method=='SGD':\n",
    "            optim = torch.optim.SGD(params=model.parameters(), momentum=0, lr=lr)\n",
    "        else:\n",
    "            print('Unsupported optimization method')\n",
    "            return\n",
    "    # iterate\n",
    "    for i in np.arange(math.floor(total_it/mbsize)):\n",
    "        # initialize param update\n",
    "        cur_state_dict=copy.deepcopy(model.state_dict())\n",
    "        cur_weight = model.state_dict()['linear.weight'].numpy().flatten()\n",
    "        cur_bias = model.state_dict()['linear.bias'].numpy()\n",
    "        delta_bias = np.zeros(1)\n",
    "        delta_weight = np.zeros(in_dim)\n",
    "        # run minibatch SGD for each household\n",
    "        for household in households:\n",
    "            # run minibatch SGD and get update in parameters\n",
    "            db, dw = household.minibatch_SGD(model=model,optim=optim, mbsize=mbsize, verbose=False)\n",
    "            # aggregate updates\n",
    "            delta_bias  = db*household.info['train_samples']/tot_samp + delta_bias\n",
    "            delta_weight= dw*household.info['train_samples']/tot_samp + delta_weight\n",
    "            # reset model\n",
    "            for key, value in cur_state_dict.items():\n",
    "                model.state_dict()[key].copy_(value)\n",
    "        # update model\n",
    "        new_bias = cur_bias + delta_bias/len(households)\n",
    "        new_bias = torch.tensor(new_bias)\n",
    "        new_weight = cur_weight + delta_weight/len(households)\n",
    "        new_weight = torch.tensor(new_weight.reshape((1,len(new_weight))))\n",
    "        model.state_dict()['linear.weight'].copy_(new_weight)\n",
    "        model.state_dict()['linear.bias'].copy_(new_bias)\n",
    "        #print_param(model, 'Iteration ' + str(i) + ' ')\n",
    "\n",
    "        #print(' ')\n",
    "    # print trained parameters\n",
    "    print_param(model, 'Trained DA ')\n",
    "    return model"
   ]
  },
  {
   "cell_type": "markdown",
   "metadata": {},
   "source": [
    "## 1.2 Central Training\n",
    "Problem setup:\n",
    "* Training data from all households is available simultaneously at a data center \n",
    "\n",
    "Algorithm:\n",
    "* Training datasets from all households are augmented into a single matrix\n",
    "* Training iterations are executed on the augmented dataset"
   ]
  },
  {
   "cell_type": "code",
   "execution_count": 5,
   "metadata": {},
   "outputs": [],
   "source": [
    "def central_train(households, optim_method, lr, total_it, **kwargs):\n",
    "    random.seed(30)\n",
    "    np.random.seed(30)\n",
    "    torch.manual_seed(30)\n",
    "    # Augment training datasets\n",
    "    for h_ind, household in enumerate(households):\n",
    "        if h_ind==0:\n",
    "            X_train_aug = households[0].X_train\n",
    "            y_train_aug = households[0].y_train\n",
    "        else:\n",
    "            X_train_aug = np.concatenate((X_train_aug, household.X_train), axis=0)\n",
    "            y_train_aug = np.concatenate((y_train_aug, household.y_train), axis=0)\n",
    "    # shuffle\n",
    "    #X_train_aug, y_train_aug = shuffle(X_train_aug, y_train_aug, random_state=0)\n",
    "    if 'init_state_dict' in kwargs:\n",
    "        set_init = True\n",
    "        init_state_dict = kwargs.get('init_state_dict')\n",
    "    else:\n",
    "        set_init = False\n",
    "    # create an initial model with random parameters\n",
    "    in_dim=households[0].info['num_features']\n",
    "    model = SyNet(torch, in_dim=in_dim, out_dim=1)\n",
    "    if set_init:\n",
    "        for key, value in init_state_dict.items():\n",
    "            model.state_dict()[key].copy_(value)\n",
    "        #print_param(model, 'Initial CA ')\n",
    "    # create optimizer\n",
    "    if optim_method=='Adam':\n",
    "        optim = torch.optim.Adam(params=model.parameters(), lr=lr)\n",
    "    else:\n",
    "        if optim_method=='SGD':\n",
    "            optim = torch.optim.SGD(params=model.parameters(), momentum=0, lr=lr)\n",
    "        else:\n",
    "            print('Unsupported optimization method')\n",
    "            return\n",
    "    # iterate\n",
    "    for i in range(total_it):\n",
    "        optim.zero_grad()\n",
    "        # predict\n",
    "        output = model(torch.FloatTensor(X_train_aug))\n",
    "        # calculate loss\n",
    "        loss = torch.nn.functional.mse_loss(output, torch.FloatTensor(y_train_aug.reshape(-1, 1)))\n",
    "        loss.backward()\n",
    "        optim.step()\n",
    "        #print(\"Epoch \", i, \" train loss\", loss.item())\n",
    "\n",
    "    # print trained parameters\n",
    "    print_param(model, 'Trained CA ')\n",
    "    return model"
   ]
  },
  {
   "cell_type": "markdown",
   "metadata": {},
   "source": [
    "# 2 Sanity Check\n",
    "This section is for checking if the distributed Adam algorithm works correctly. \n",
    "## 2.1 Single Household Check\n",
    "First, we use only one household and fit a linear regression model with two methods: 1) directly using Adam on the local data of this household, 2) using the distributed Adam by only one household. If initiated at the same parameters, both methods return the same weights and bias. "
   ]
  },
  {
   "cell_type": "code",
   "execution_count": 6,
   "metadata": {},
   "outputs": [
    {
     "name": "stdout",
     "output_type": "stream",
     "text": [
      "\n",
      "Method 1\n",
      "personal model: \n",
      "bias = 0.15442649, \n",
      "weights = [-0.039 -0.01  -0.017 -0.002 -0.063  1.937  0.176  0.532 -0.043 -0.134\n",
      "  0.057  0.042 -0.042]\n",
      "\n",
      "Method 2\n",
      "Initial DA  model: \n",
      "bias = -0.21790028, \n",
      "weights = [-0.06   0.154  0.093  0.246 -0.212  0.024 -0.073  0.094 -0.121  0.235\n",
      " -0.182  0.195  0.259]\n",
      "Trained DA  model: \n",
      "bias = 0.1544265, \n",
      "weights = [-0.039 -0.01  -0.017 -0.002 -0.063  1.937  0.176  0.532 -0.043 -0.134\n",
      "  0.057  0.042 -0.042]\n",
      "\n",
      "Single household check was successful.\n"
     ]
    }
   ],
   "source": [
    "lr = 0.1\n",
    "mbsize = 2\n",
    "total_it = 400\n",
    "\n",
    "# create an initial model with random parameters\n",
    "model = SyNet(torch, in_dim=household.info['num_features'], out_dim=1)\n",
    "init_state_dict = copy.deepcopy(model.state_dict())\n",
    "  \n",
    "# set training data\n",
    "households[0].train_test_split(test_frac=0.25)    \n",
    "\n",
    "# METHOD 1\n",
    "household = households[0]\n",
    "print('\\nMethod 1')\n",
    "household.fit_personal_model(method='Adam', lr=lr, iterations=total_it, init_state_dict=init_state_dict)\n",
    "model_lr = household.personal_lr\n",
    "print_param(model_lr, 'personal')\n",
    "\n",
    "# METHOD 2\n",
    "print('\\nMethod 2')\n",
    "model_da = distributed_train([household], optim_method='Adam', \n",
    "                             lr=lr, mbsize=mbsize, total_it=total_it, \n",
    "                             init_state_dict=init_state_dict)\n",
    "\n",
    "# Compare\n",
    "tol = 1e-4\n",
    "dif_b = np.abs(model_da.state_dict()['linear.bias'].numpy()-model_lr.state_dict()['linear.bias'].numpy())\n",
    "dif_w = np.abs(model_da.state_dict()['linear.weight'].numpy().flatten()-model_lr.state_dict()['linear.weight'].numpy().flatten())\n",
    "if np.all(dif_b<tol) and np.all(dif_w<tol):\n",
    "    print('\\nSingle household check was successful.')\n",
    "else:\n",
    "    print('\\nSingle household check failed.')"
   ]
  },
  {
   "cell_type": "markdown",
   "metadata": {},
   "source": [
    "## 2.2 Multiple Households Check\n",
    "To assess the correctness of the distributed Adam algorithm, we compare it with the central learning scenario. In the central algorithm, we assume that the training data from all households is available simultaneously and run the Adam iterations on the augmented dataset."
   ]
  },
  {
   "cell_type": "code",
   "execution_count": 7,
   "metadata": {},
   "outputs": [
    {
     "name": "stdout",
     "output_type": "stream",
     "text": [
      "\n",
      "Method 1\n",
      "Trained CA  model: \n",
      "bias = 0.16825156, \n",
      "weights = [-0.063 -0.009 -0.021 -0.006 -0.107  0.739  0.103  0.241  0.001  0.091\n",
      "  0.641  0.071 -0.118]\n",
      "\n",
      "Method 2\n",
      "Initial DA  model: \n",
      "bias = 0.045194328, \n",
      "weights = [-0.18  -0.087  0.243 -0.254 -0.215  0.109  0.209 -0.102 -0.112  0.157\n",
      "  0.085 -0.043 -0.103]\n",
      "Trained DA  model: \n",
      "bias = 0.21761383, \n",
      "weights = [-0.084 -0.016 -0.023 -0.008 -0.154  0.448  0.23   0.168  0.027  0.161\n",
      "  0.431  0.12  -0.057]\n"
     ]
    }
   ],
   "source": [
    "lr = 0.1\n",
    "mbsize = 1\n",
    "total_it = 1000\n",
    "# create an initial model with random parameters\n",
    "model = SyNet(torch, in_dim=household.info['num_features'], out_dim=1)\n",
    "init_state_dict = copy.deepcopy(model.state_dict())\n",
    "\n",
    "# METHOD 1\n",
    "print('\\nMethod 1')\n",
    "model_ca = central_train(households, optim_method='SGD', lr=lr, total_it=total_it, init_state_dict=init_state_dict)\n",
    "\n",
    "# METHOD 2\n",
    "print('\\nMethod 2')\n",
    "model_da = distributed_train(households, lr=lr, total_it=total_it, mbsize=mbsize, optim_method='SGD', init_state_dict=init_state_dict)\n",
    "\n",
    "# Compare\n",
    "tol = 1e-4\n",
    "model1 = model_ca\n",
    "model2 = model_da\n",
    "dif_b = np.abs(model1.state_dict()['linear.bias'].numpy()-model2.state_dict()['linear.bias'].numpy())\n",
    "dif_w = np.abs(model1.state_dict()['linear.weight'].numpy().flatten()-model2.state_dict()['linear.weight'].numpy().flatten())\n",
    "if np.all(dif_b<tol) and np.all(dif_w<tol):\n",
    "    print('Models match')\n",
    "else:\n",
    "    print('Models do not match')"
   ]
  },
  {
   "cell_type": "code",
   "execution_count": 12,
   "metadata": {},
   "outputs": [
    {
     "name": "stdout",
     "output_type": "stream",
     "text": [
      "personal for household 0 model: \n",
      "bias = 0.14200395, \n",
      "weights = [-0.141  0.014  0.157 -0.239 -0.112  0.151  0.108  0.142 -0.063  0.031\n",
      " -0.077  0.082 -0.15 ]\n",
      "Models match\n"
     ]
    }
   ],
   "source": [
    "# Problem! central algorithm is just the same as personal model for households 1\n",
    "households[0].fit_personal_model(method='Adam', lr=lr, iterations=total_it, init_state_dict=init_state_dict)\n",
    "model_lr = households[0].personal_lr\n",
    "print_param(model_lr, 'personal for household 0')\n",
    "\n",
    "# Compare\n",
    "tol = 1e-4\n",
    "model1 = model_ca\n",
    "model2 = model_lr\n",
    "dif_b = np.abs(model1.state_dict()['linear.bias'].numpy()-model2.state_dict()['linear.bias'].numpy())\n",
    "dif_w = np.abs(model1.state_dict()['linear.weight'].numpy().flatten()-model2.state_dict()['linear.weight'].numpy().flatten())\n",
    "if np.all(dif_b<tol) and np.all(dif_w<tol):\n",
    "    print('Models match')\n",
    "else:\n",
    "    print('Models do not match')"
   ]
  },
  {
   "cell_type": "markdown",
   "metadata": {},
   "source": [
    "# Performance Test"
   ]
  },
  {
   "cell_type": "code",
   "execution_count": 9,
   "metadata": {},
   "outputs": [
    {
     "name": "stdout",
     "output_type": "stream",
     "text": [
      "Trained CA  model: \n",
      "bias = 0.14200395, \n",
      "weights = [-0.141  0.014  0.157 -0.239 -0.112  0.151  0.108  0.142 -0.063  0.031\n",
      " -0.077  0.082 -0.15 ]\n",
      "Initial DA  model: \n",
      "bias = 0.04200396, \n",
      "weights = [-0.241 -0.086  0.257 -0.139 -0.212  0.051  0.008  0.042 -0.163 -0.069\n",
      " -0.177 -0.018 -0.25 ]\n",
      "Trained DA  model: \n",
      "bias = 0.066274285, \n",
      "weights = [-0.237 -0.063  0.233 -0.158 -0.188  0.075  0.031  0.064 -0.141 -0.047\n",
      " -0.154  0.005 -0.227]\n"
     ]
    },
    {
     "data": {
      "image/png": "[encoded data removed]",
      "text/plain": [
       "<Figure size 864x432 with 2 Axes>"
      ]
     },
     "metadata": {
      "needs_background": "light"
     },
     "output_type": "display_data"
    }
   ],
   "source": [
    "# parameters\n",
    "lr = 0.1\n",
    "mbsize = 1\n",
    "total_it = 1\n",
    "in_dim = households[0].info['num_features']\n",
    "init_model = SyNet(torch, in_dim=in_dim, out_dim=1)\n",
    "init_state_dict = init_model.state_dict()\n",
    "\n",
    "# train central adam\n",
    "model_ca = central_train(households, optim_method='Adam', \n",
    "                         lr=lr, total_it=total_it, init_state_dict=init_state_dict)\n",
    "\n",
    "# train distributed adam\n",
    "model_da = distributed_train(households, optim_method='Adam', \n",
    "                             lr=lr, mbsize=mbsize, total_it=total_it, init_state_dict=init_state_dict)\n",
    "\n",
    "mse_train_pr = np.zeros(num_households)\n",
    "mse_train_da = np.zeros(num_households)\n",
    "mse_train_ca = np.zeros(num_households)\n",
    "mse_test_pr = np.zeros(num_households)\n",
    "mse_test_da = np.zeros(num_households)\n",
    "mse_test_ca = np.zeros(num_households)\n",
    "\n",
    "for h_ind, household in enumerate(households):\n",
    "    # train personal model \n",
    "    household.fit_personal_model(method='Adam', lr=lr, iterations=total_it, init_state_dict=init_state_dict)\n",
    "    res = household.evaluate_model(method='Adam')\n",
    "    mse_train_pr[h_ind] = res['MSE_train']\n",
    "    mse_test_pr[h_ind] = res['MSE_test']\n",
    "    # test distributed adam\n",
    "    res = household.evaluate_model(method='Adam', model=model_da)\n",
    "    mse_train_da[h_ind] = res['MSE_train']\n",
    "    mse_test_da[h_ind] = res['MSE_test']\n",
    "    # test central adam\n",
    "    res = household.evaluate_model(method='Adam', model=model_ca)\n",
    "    mse_train_ca[h_ind] = res['MSE_train']\n",
    "    mse_test_ca[h_ind] = res['MSE_test']\n",
    "    \n",
    "fig,axs = plt.subplots(2,1,figsize=(12,6))\n",
    "axs[0].scatter(np.arange(num_households), mse_train_pr, color='blue', label='personal')\n",
    "axs[0].scatter(np.arange(num_households), mse_train_da, color='orange', label='dist. Adam')\n",
    "axs[0].scatter(np.arange(num_households), mse_train_ca, color='purple', label='cent. Adam')\n",
    "axs[0].set_title('Train')\n",
    "axs[1].scatter(np.arange(num_households), mse_test_pr, color='blue', label='personal')\n",
    "axs[1].scatter(np.arange(num_households), mse_test_da, color='orange', label='dist. Adam')\n",
    "axs[1].scatter(np.arange(num_households), mse_test_ca, color='purple', label='cent. Adam')\n",
    "axs[1].set_title('Test')\n",
    "for ax in axs:\n",
    "    ax.legend()\n",
    "    ax.set_xlabel('household number')\n",
    "    ax.set_ylabel('MSE')\n",
    "    "
   ]
  },
  {
   "cell_type": "code",
   "execution_count": 10,
   "metadata": {},
   "outputs": [
    {
     "name": "stdout",
     "output_type": "stream",
     "text": [
      " model: \n",
      "bias = 0.14200395, \n",
      "weights = [-0.141  0.014  0.157 -0.039 -0.112  0.151  0.108  0.142 -0.063  0.031\n",
      " -0.077  0.082 -0.15 ]\n"
     ]
    }
   ],
   "source": [
    "households[0].fit_personal_model(method='Adam', lr=lr, iterations=total_it, init_state_dict=init_state_dict)\n",
    "model_lr = household.personal_lr\n",
    "print_param(model_lr)"
   ]
  },
  {
   "cell_type": "code",
   "execution_count": 11,
   "metadata": {},
   "outputs": [
    {
     "name": "stdout",
     "output_type": "stream",
     "text": [
      "Household  0  train loss 0.33877328038215637\n",
      "\n",
      "Household  1  train loss 0.7088828682899475\n",
      "\n",
      "0.5301367604935711\n"
     ]
    }
   ],
   "source": [
    "av_loss = 0\n",
    "tot_samp = 0\n",
    "for i in np.arange(2):\n",
    "    output = init_model(torch.FloatTensor(households[i].X_train))\n",
    "    # calculate loss\n",
    "    loss = torch.nn.functional.mse_loss(output, torch.FloatTensor(households[i].y_train.reshape(-1, 1)))\n",
    "    av_loss = av_loss + households[i].info['train_samples']*loss.item()\n",
    "    tot_samp = tot_samp + households[i].info['train_samples']\n",
    "    print(\"Household \", i, \" train loss\", loss.item())\n",
    "    print()\n",
    "print(av_loss/tot_samp)"
   ]
  },
  {
   "cell_type": "code",
   "execution_count": null,
   "metadata": {},
   "outputs": [],
   "source": []
  },
  {
   "cell_type": "code",
   "execution_count": null,
   "metadata": {},
   "outputs": [],
   "source": []
  },
  {
   "cell_type": "code",
   "execution_count": null,
   "metadata": {},
   "outputs": [],
   "source": []
  },
  {
   "cell_type": "code",
   "execution_count": null,
   "metadata": {},
   "outputs": [],
   "source": []
  },
  {
   "cell_type": "code",
   "execution_count": null,
   "metadata": {},
   "outputs": [],
   "source": []
  },
  {
   "cell_type": "code",
   "execution_count": null,
   "metadata": {},
   "outputs": [],
   "source": []
  }
 ],
 "metadata": {
  "kernelspec": {
   "display_name": "Python 3",
   "language": "python",
   "name": "python3"
  },
  "language_info": {
   "codemirror_mode": {
    "name": "ipython",
    "version": 3
   },
   "file_extension": ".py",
   "mimetype": "text/x-python",
   "name": "python",
   "nbconvert_exporter": "python",
   "pygments_lexer": "ipython3",
   "version": "3.8.3"
  }
 },
 "nbformat": 4,
 "nbformat_minor": 4
}
